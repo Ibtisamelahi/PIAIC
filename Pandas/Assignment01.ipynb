{
 "cells": [
  {
   "cell_type": "markdown",
   "metadata": {},
   "source": [
    "# Pandas Assignment"
   ]
  },
  {
   "cell_type": "markdown",
   "metadata": {},
   "source": [
    "# 1. Cleaning US census Data"
   ]
  },
  {
   "cell_type": "code",
   "execution_count": 1,
   "metadata": {},
   "outputs": [],
   "source": [
    "import pandas as pd\n",
    "import glob\n",
    "import numpy as np\n",
    "import matplotlib.pyplot as pyplot"
   ]
  },
  {
   "cell_type": "markdown",
   "metadata": {},
   "source": [
    "## Compile the Data"
   ]
  },
  {
   "cell_type": "markdown",
   "metadata": {},
   "source": [
    "***\n",
    "Using glob, loop through the census files available and load them into DataFrames. Then, concatenate all of those DataFrames together into one DataFrame, called something like us_census."
   ]
  },
  {
   "cell_type": "code",
   "execution_count": 2,
   "metadata": {},
   "outputs": [
    {
     "data": {
      "text/plain": [
       "['states0.csv',\n",
       " 'states1.csv',\n",
       " 'states2.csv',\n",
       " 'states3.csv',\n",
       " 'states4.csv',\n",
       " 'states5.csv',\n",
       " 'states6.csv',\n",
       " 'states7.csv',\n",
       " 'states8.csv',\n",
       " 'states9.csv']"
      ]
     },
     "execution_count": 2,
     "metadata": {},
     "output_type": "execute_result"
    }
   ],
   "source": [
    "census_files = glob.glob(\"states*.csv\")\n",
    "\n",
    "file_list = []\n",
    "for filename in census_files:\n",
    "    data = pd.read_csv(filename)\n",
    "    file_list.append(data)\n",
    "\n",
    "census_files"
   ]
  },
  {
   "cell_type": "markdown",
   "metadata": {},
   "source": [
    "## Inital view of the Data"
   ]
  },
  {
   "cell_type": "code",
   "execution_count": 3,
   "metadata": {},
   "outputs": [
    {
     "data": {
      "text/html": [
       "<div>\n",
       "<style scoped>\n",
       "    .dataframe tbody tr th:only-of-type {\n",
       "        vertical-align: middle;\n",
       "    }\n",
       "\n",
       "    .dataframe tbody tr th {\n",
       "        vertical-align: top;\n",
       "    }\n",
       "\n",
       "    .dataframe thead th {\n",
       "        text-align: right;\n",
       "    }\n",
       "</style>\n",
       "<table border=\"1\" class=\"dataframe\">\n",
       "  <thead>\n",
       "    <tr style=\"text-align: right;\">\n",
       "      <th></th>\n",
       "      <th>Unnamed: 0</th>\n",
       "      <th>State</th>\n",
       "      <th>TotalPop</th>\n",
       "      <th>Hispanic</th>\n",
       "      <th>White</th>\n",
       "      <th>Black</th>\n",
       "      <th>Native</th>\n",
       "      <th>Asian</th>\n",
       "      <th>Pacific</th>\n",
       "      <th>Income</th>\n",
       "      <th>GenderPop</th>\n",
       "    </tr>\n",
       "  </thead>\n",
       "  <tbody>\n",
       "    <tr>\n",
       "      <th>0</th>\n",
       "      <td>0</td>\n",
       "      <td>Alabama</td>\n",
       "      <td>4830620</td>\n",
       "      <td>3.7516156462584975%</td>\n",
       "      <td>61.878656462585%</td>\n",
       "      <td>31.25297619047618%</td>\n",
       "      <td>0.4532312925170065%</td>\n",
       "      <td>1.0502551020408146%</td>\n",
       "      <td>0.03435374149659865%</td>\n",
       "      <td>$43296.35860306644</td>\n",
       "      <td>2341093M_2489527F</td>\n",
       "    </tr>\n",
       "    <tr>\n",
       "      <th>1</th>\n",
       "      <td>1</td>\n",
       "      <td>Alaska</td>\n",
       "      <td>733375</td>\n",
       "      <td>5.909580838323351%</td>\n",
       "      <td>60.910179640718574%</td>\n",
       "      <td>2.8485029940119775%</td>\n",
       "      <td>16.39101796407186%</td>\n",
       "      <td>5.450299401197604%</td>\n",
       "      <td>1.0586826347305378%</td>\n",
       "      <td>$70354.74390243902</td>\n",
       "      <td>384160M_349215F</td>\n",
       "    </tr>\n",
       "    <tr>\n",
       "      <th>2</th>\n",
       "      <td>2</td>\n",
       "      <td>Arizona</td>\n",
       "      <td>6641928</td>\n",
       "      <td>29.565921052631502%</td>\n",
       "      <td>57.120000000000026%</td>\n",
       "      <td>3.8509868421052658%</td>\n",
       "      <td>4.35506578947368%</td>\n",
       "      <td>2.876578947368419%</td>\n",
       "      <td>0.16763157894736833%</td>\n",
       "      <td>$54207.82095490716</td>\n",
       "      <td>3299088M_3342840F</td>\n",
       "    </tr>\n",
       "    <tr>\n",
       "      <th>3</th>\n",
       "      <td>3</td>\n",
       "      <td>Arkansas</td>\n",
       "      <td>2958208</td>\n",
       "      <td>6.215474452554738%</td>\n",
       "      <td>71.13781021897813%</td>\n",
       "      <td>18.968759124087573%</td>\n",
       "      <td>0.5229197080291965%</td>\n",
       "      <td>1.1423357664233578%</td>\n",
       "      <td>0.14686131386861315%</td>\n",
       "      <td>$41935.63396778917</td>\n",
       "      <td>1451913M_1506295F</td>\n",
       "    </tr>\n",
       "    <tr>\n",
       "      <th>4</th>\n",
       "      <td>4</td>\n",
       "      <td>California</td>\n",
       "      <td>38421464</td>\n",
       "      <td>37.291874687968054%</td>\n",
       "      <td>40.21578881677474%</td>\n",
       "      <td>5.677396405391911%</td>\n",
       "      <td>0.40529206190713685%</td>\n",
       "      <td>13.052234148776776%</td>\n",
       "      <td>0.35141038442336353%</td>\n",
       "      <td>$67264.78230266465</td>\n",
       "      <td>19087135M_19334329F</td>\n",
       "    </tr>\n",
       "  </tbody>\n",
       "</table>\n",
       "</div>"
      ],
      "text/plain": [
       "   Unnamed: 0       State  TotalPop             Hispanic                White  \\\n",
       "0           0     Alabama   4830620  3.7516156462584975%     61.878656462585%   \n",
       "1           1      Alaska    733375   5.909580838323351%  60.910179640718574%   \n",
       "2           2     Arizona   6641928  29.565921052631502%  57.120000000000026%   \n",
       "3           3    Arkansas   2958208   6.215474452554738%   71.13781021897813%   \n",
       "4           4  California  38421464  37.291874687968054%   40.21578881677474%   \n",
       "\n",
       "                 Black                Native                Asian  \\\n",
       "0   31.25297619047618%   0.4532312925170065%  1.0502551020408146%   \n",
       "1  2.8485029940119775%    16.39101796407186%   5.450299401197604%   \n",
       "2  3.8509868421052658%     4.35506578947368%   2.876578947368419%   \n",
       "3  18.968759124087573%   0.5229197080291965%  1.1423357664233578%   \n",
       "4   5.677396405391911%  0.40529206190713685%  13.052234148776776%   \n",
       "\n",
       "                Pacific              Income            GenderPop  \n",
       "0  0.03435374149659865%  $43296.35860306644    2341093M_2489527F  \n",
       "1   1.0586826347305378%  $70354.74390243902      384160M_349215F  \n",
       "2  0.16763157894736833%  $54207.82095490716    3299088M_3342840F  \n",
       "3  0.14686131386861315%  $41935.63396778917    1451913M_1506295F  \n",
       "4  0.35141038442336353%  $67264.78230266465  19087135M_19334329F  "
      ]
     },
     "execution_count": 3,
     "metadata": {},
     "output_type": "execute_result"
    }
   ],
   "source": [
    "us_census = pd.concat(file_list)\n",
    "us_census.head()"
   ]
  },
  {
   "cell_type": "markdown",
   "metadata": {},
   "source": [
    "Look at the .columns and the .dtypes of the us_census DataFrame. Are those datatypes going to hinder you as you try to make histograms?"
   ]
  },
  {
   "cell_type": "code",
   "execution_count": 4,
   "metadata": {},
   "outputs": [
    {
     "data": {
      "text/plain": [
       "Index(['Unnamed: 0', 'State', 'TotalPop', 'Hispanic', 'White', 'Black',\n",
       "       'Native', 'Asian', 'Pacific', 'Income', 'GenderPop'],\n",
       "      dtype='object')"
      ]
     },
     "execution_count": 4,
     "metadata": {},
     "output_type": "execute_result"
    }
   ],
   "source": [
    "us_census.columns"
   ]
  },
  {
   "cell_type": "markdown",
   "metadata": {},
   "source": [
    "Look at the .head() of the DataFrame so that you can understand why some of these dtypes are objects instead of integers or floats."
   ]
  },
  {
   "cell_type": "code",
   "execution_count": 5,
   "metadata": {},
   "outputs": [
    {
     "data": {
      "text/plain": [
       "Unnamed: 0     int64\n",
       "State         object\n",
       "TotalPop       int64\n",
       "Hispanic      object\n",
       "White         object\n",
       "Black         object\n",
       "Native        object\n",
       "Asian         object\n",
       "Pacific       object\n",
       "Income        object\n",
       "GenderPop     object\n",
       "dtype: object"
      ]
     },
     "execution_count": 5,
     "metadata": {},
     "output_type": "execute_result"
    }
   ],
   "source": [
    "us_census.dtypes"
   ]
  },
  {
   "cell_type": "markdown",
   "metadata": {},
   "source": [
    "Start to make a plan for how to convert these columns into the right types for manipulation.  \n",
    "\n",
    "Regex to the Rescue  \n",
    "\n",
    "Use regex to turn the Income column into a format that is ready for conversion into a numerical type."
   ]
  },
  {
   "cell_type": "markdown",
   "metadata": {},
   "source": [
    "## Remove the currency sign and change Data type to numeric"
   ]
  },
  {
   "cell_type": "code",
   "execution_count": 6,
   "metadata": {},
   "outputs": [
    {
     "data": {
      "text/plain": [
       "0    43296.35860306644\n",
       "1    70354.74390243902\n",
       "2    54207.82095490716\n",
       "3    41935.63396778917\n",
       "4    67264.78230266465\n",
       "Name: Income, dtype: object"
      ]
     },
     "execution_count": 6,
     "metadata": {},
     "output_type": "execute_result"
    }
   ],
   "source": [
    "us_census.Income = us_census.Income.replace('[\\$]', '', regex=True)\n",
    "us_census.Income.head()"
   ]
  },
  {
   "cell_type": "markdown",
   "metadata": {},
   "source": [
    "Look at the PopulationGender column. We are going to want to separate this into two columns, the Men column, and the Women column.\n",
    "\n",
    "Split the column into those two new columns using str.split and separating out those results."
   ]
  },
  {
   "cell_type": "markdown",
   "metadata": {},
   "source": [
    "## Seperate Male and Female figures using .split()"
   ]
  },
  {
   "cell_type": "code",
   "execution_count": 7,
   "metadata": {
    "scrolled": true
   },
   "outputs": [
    {
     "data": {
      "text/plain": [
       "0      [2341093M, 2489527F]\n",
       "1        [384160M, 349215F]\n",
       "2      [3299088M, 3342840F]\n",
       "3      [1451913M, 1506295F]\n",
       "4    [19087135M, 19334329F]\n",
       "Name: GenderPop, dtype: object"
      ]
     },
     "execution_count": 7,
     "metadata": {},
     "output_type": "execute_result"
    }
   ],
   "source": [
    "population_split = us_census.GenderPop.str.split(\"_\")\n",
    "population_split.head()"
   ]
  },
  {
   "cell_type": "code",
   "execution_count": 8,
   "metadata": {},
   "outputs": [
    {
     "data": {
      "text/html": [
       "<div>\n",
       "<style scoped>\n",
       "    .dataframe tbody tr th:only-of-type {\n",
       "        vertical-align: middle;\n",
       "    }\n",
       "\n",
       "    .dataframe tbody tr th {\n",
       "        vertical-align: top;\n",
       "    }\n",
       "\n",
       "    .dataframe thead th {\n",
       "        text-align: right;\n",
       "    }\n",
       "</style>\n",
       "<table border=\"1\" class=\"dataframe\">\n",
       "  <thead>\n",
       "    <tr style=\"text-align: right;\">\n",
       "      <th></th>\n",
       "      <th>Unnamed: 0</th>\n",
       "      <th>State</th>\n",
       "      <th>TotalPop</th>\n",
       "      <th>Hispanic</th>\n",
       "      <th>White</th>\n",
       "      <th>Black</th>\n",
       "      <th>Native</th>\n",
       "      <th>Asian</th>\n",
       "      <th>Pacific</th>\n",
       "      <th>Income</th>\n",
       "      <th>GenderPop</th>\n",
       "      <th>male_population</th>\n",
       "      <th>female_population</th>\n",
       "    </tr>\n",
       "  </thead>\n",
       "  <tbody>\n",
       "    <tr>\n",
       "      <th>0</th>\n",
       "      <td>0</td>\n",
       "      <td>Alabama</td>\n",
       "      <td>4830620</td>\n",
       "      <td>3.7516156462584975%</td>\n",
       "      <td>61.878656462585%</td>\n",
       "      <td>31.25297619047618%</td>\n",
       "      <td>0.4532312925170065%</td>\n",
       "      <td>1.0502551020408146%</td>\n",
       "      <td>0.03435374149659865%</td>\n",
       "      <td>43296.35860306644</td>\n",
       "      <td>2341093M_2489527F</td>\n",
       "      <td>2341093M</td>\n",
       "      <td>2489527F</td>\n",
       "    </tr>\n",
       "    <tr>\n",
       "      <th>1</th>\n",
       "      <td>1</td>\n",
       "      <td>Alaska</td>\n",
       "      <td>733375</td>\n",
       "      <td>5.909580838323351%</td>\n",
       "      <td>60.910179640718574%</td>\n",
       "      <td>2.8485029940119775%</td>\n",
       "      <td>16.39101796407186%</td>\n",
       "      <td>5.450299401197604%</td>\n",
       "      <td>1.0586826347305378%</td>\n",
       "      <td>70354.74390243902</td>\n",
       "      <td>384160M_349215F</td>\n",
       "      <td>384160M</td>\n",
       "      <td>349215F</td>\n",
       "    </tr>\n",
       "    <tr>\n",
       "      <th>2</th>\n",
       "      <td>2</td>\n",
       "      <td>Arizona</td>\n",
       "      <td>6641928</td>\n",
       "      <td>29.565921052631502%</td>\n",
       "      <td>57.120000000000026%</td>\n",
       "      <td>3.8509868421052658%</td>\n",
       "      <td>4.35506578947368%</td>\n",
       "      <td>2.876578947368419%</td>\n",
       "      <td>0.16763157894736833%</td>\n",
       "      <td>54207.82095490716</td>\n",
       "      <td>3299088M_3342840F</td>\n",
       "      <td>3299088M</td>\n",
       "      <td>3342840F</td>\n",
       "    </tr>\n",
       "    <tr>\n",
       "      <th>3</th>\n",
       "      <td>3</td>\n",
       "      <td>Arkansas</td>\n",
       "      <td>2958208</td>\n",
       "      <td>6.215474452554738%</td>\n",
       "      <td>71.13781021897813%</td>\n",
       "      <td>18.968759124087573%</td>\n",
       "      <td>0.5229197080291965%</td>\n",
       "      <td>1.1423357664233578%</td>\n",
       "      <td>0.14686131386861315%</td>\n",
       "      <td>41935.63396778917</td>\n",
       "      <td>1451913M_1506295F</td>\n",
       "      <td>1451913M</td>\n",
       "      <td>1506295F</td>\n",
       "    </tr>\n",
       "    <tr>\n",
       "      <th>4</th>\n",
       "      <td>4</td>\n",
       "      <td>California</td>\n",
       "      <td>38421464</td>\n",
       "      <td>37.291874687968054%</td>\n",
       "      <td>40.21578881677474%</td>\n",
       "      <td>5.677396405391911%</td>\n",
       "      <td>0.40529206190713685%</td>\n",
       "      <td>13.052234148776776%</td>\n",
       "      <td>0.35141038442336353%</td>\n",
       "      <td>67264.78230266465</td>\n",
       "      <td>19087135M_19334329F</td>\n",
       "      <td>19087135M</td>\n",
       "      <td>19334329F</td>\n",
       "    </tr>\n",
       "  </tbody>\n",
       "</table>\n",
       "</div>"
      ],
      "text/plain": [
       "   Unnamed: 0       State  TotalPop             Hispanic                White  \\\n",
       "0           0     Alabama   4830620  3.7516156462584975%     61.878656462585%   \n",
       "1           1      Alaska    733375   5.909580838323351%  60.910179640718574%   \n",
       "2           2     Arizona   6641928  29.565921052631502%  57.120000000000026%   \n",
       "3           3    Arkansas   2958208   6.215474452554738%   71.13781021897813%   \n",
       "4           4  California  38421464  37.291874687968054%   40.21578881677474%   \n",
       "\n",
       "                 Black                Native                Asian  \\\n",
       "0   31.25297619047618%   0.4532312925170065%  1.0502551020408146%   \n",
       "1  2.8485029940119775%    16.39101796407186%   5.450299401197604%   \n",
       "2  3.8509868421052658%     4.35506578947368%   2.876578947368419%   \n",
       "3  18.968759124087573%   0.5229197080291965%  1.1423357664233578%   \n",
       "4   5.677396405391911%  0.40529206190713685%  13.052234148776776%   \n",
       "\n",
       "                Pacific             Income            GenderPop  \\\n",
       "0  0.03435374149659865%  43296.35860306644    2341093M_2489527F   \n",
       "1   1.0586826347305378%  70354.74390243902      384160M_349215F   \n",
       "2  0.16763157894736833%  54207.82095490716    3299088M_3342840F   \n",
       "3  0.14686131386861315%  41935.63396778917    1451913M_1506295F   \n",
       "4  0.35141038442336353%  67264.78230266465  19087135M_19334329F   \n",
       "\n",
       "  male_population female_population  \n",
       "0        2341093M          2489527F  \n",
       "1         384160M           349215F  \n",
       "2        3299088M          3342840F  \n",
       "3        1451913M          1506295F  \n",
       "4       19087135M         19334329F  "
      ]
     },
     "execution_count": 8,
     "metadata": {},
     "output_type": "execute_result"
    }
   ],
   "source": [
    "us_census['male_population'] = population_split.str.get(0)\n",
    "us_census['female_population'] = population_split.str.get(1)\n",
    "us_census.head()"
   ]
  },
  {
   "cell_type": "markdown",
   "metadata": {},
   "source": [
    "There is still an M or an F character in each entry! We should remove those before we convert to numeric data types."
   ]
  },
  {
   "cell_type": "code",
   "execution_count": 9,
   "metadata": {},
   "outputs": [
    {
     "data": {
      "text/html": [
       "<div>\n",
       "<style scoped>\n",
       "    .dataframe tbody tr th:only-of-type {\n",
       "        vertical-align: middle;\n",
       "    }\n",
       "\n",
       "    .dataframe tbody tr th {\n",
       "        vertical-align: top;\n",
       "    }\n",
       "\n",
       "    .dataframe thead th {\n",
       "        text-align: right;\n",
       "    }\n",
       "</style>\n",
       "<table border=\"1\" class=\"dataframe\">\n",
       "  <thead>\n",
       "    <tr style=\"text-align: right;\">\n",
       "      <th></th>\n",
       "      <th>male_pop</th>\n",
       "      <th>female_pop</th>\n",
       "    </tr>\n",
       "  </thead>\n",
       "  <tbody>\n",
       "    <tr>\n",
       "      <th>0</th>\n",
       "      <td>2341093</td>\n",
       "      <td>2489527</td>\n",
       "    </tr>\n",
       "    <tr>\n",
       "      <th>1</th>\n",
       "      <td>384160</td>\n",
       "      <td>349215</td>\n",
       "    </tr>\n",
       "    <tr>\n",
       "      <th>2</th>\n",
       "      <td>3299088</td>\n",
       "      <td>3342840</td>\n",
       "    </tr>\n",
       "    <tr>\n",
       "      <th>3</th>\n",
       "      <td>1451913</td>\n",
       "      <td>1506295</td>\n",
       "    </tr>\n",
       "    <tr>\n",
       "      <th>4</th>\n",
       "      <td>19087135</td>\n",
       "      <td>19334329</td>\n",
       "    </tr>\n",
       "  </tbody>\n",
       "</table>\n",
       "</div>"
      ],
      "text/plain": [
       "   male_pop female_pop\n",
       "0   2341093    2489527\n",
       "1    384160     349215\n",
       "2   3299088    3342840\n",
       "3   1451913    1506295\n",
       "4  19087135   19334329"
      ]
     },
     "execution_count": 9,
     "metadata": {},
     "output_type": "execute_result"
    }
   ],
   "source": [
    "pop_split = pd.DataFrame() # Create a temp empty df\n",
    "pop_split['male_pop'] = us_census.male_population.str[0:-1]\n",
    "pop_split['female_pop'] = us_census.female_population.str[0:-1]\n",
    "pop_split.head()"
   ]
  },
  {
   "cell_type": "code",
   "execution_count": 10,
   "metadata": {},
   "outputs": [
    {
     "data": {
      "text/html": [
       "<div>\n",
       "<style scoped>\n",
       "    .dataframe tbody tr th:only-of-type {\n",
       "        vertical-align: middle;\n",
       "    }\n",
       "\n",
       "    .dataframe tbody tr th {\n",
       "        vertical-align: top;\n",
       "    }\n",
       "\n",
       "    .dataframe thead th {\n",
       "        text-align: right;\n",
       "    }\n",
       "</style>\n",
       "<table border=\"1\" class=\"dataframe\">\n",
       "  <thead>\n",
       "    <tr style=\"text-align: right;\">\n",
       "      <th></th>\n",
       "      <th>Unnamed: 0</th>\n",
       "      <th>State</th>\n",
       "      <th>TotalPop</th>\n",
       "      <th>Hispanic</th>\n",
       "      <th>White</th>\n",
       "      <th>Black</th>\n",
       "      <th>Native</th>\n",
       "      <th>Asian</th>\n",
       "      <th>Pacific</th>\n",
       "      <th>Income</th>\n",
       "      <th>GenderPop</th>\n",
       "      <th>male_population</th>\n",
       "      <th>female_population</th>\n",
       "      <th>male_pop</th>\n",
       "      <th>female_pop</th>\n",
       "    </tr>\n",
       "  </thead>\n",
       "  <tbody>\n",
       "    <tr>\n",
       "      <th>0</th>\n",
       "      <td>0</td>\n",
       "      <td>Alabama</td>\n",
       "      <td>4830620</td>\n",
       "      <td>3.7516156462584975%</td>\n",
       "      <td>61.878656462585%</td>\n",
       "      <td>31.25297619047618%</td>\n",
       "      <td>0.4532312925170065%</td>\n",
       "      <td>1.0502551020408146%</td>\n",
       "      <td>0.03435374149659865%</td>\n",
       "      <td>43296.35860306644</td>\n",
       "      <td>2341093M_2489527F</td>\n",
       "      <td>2341093M</td>\n",
       "      <td>2489527F</td>\n",
       "      <td>2341093</td>\n",
       "      <td>2489527</td>\n",
       "    </tr>\n",
       "    <tr>\n",
       "      <th>1</th>\n",
       "      <td>1</td>\n",
       "      <td>Alaska</td>\n",
       "      <td>733375</td>\n",
       "      <td>5.909580838323351%</td>\n",
       "      <td>60.910179640718574%</td>\n",
       "      <td>2.8485029940119775%</td>\n",
       "      <td>16.39101796407186%</td>\n",
       "      <td>5.450299401197604%</td>\n",
       "      <td>1.0586826347305378%</td>\n",
       "      <td>70354.74390243902</td>\n",
       "      <td>384160M_349215F</td>\n",
       "      <td>384160M</td>\n",
       "      <td>349215F</td>\n",
       "      <td>384160</td>\n",
       "      <td>349215</td>\n",
       "    </tr>\n",
       "    <tr>\n",
       "      <th>2</th>\n",
       "      <td>2</td>\n",
       "      <td>Arizona</td>\n",
       "      <td>6641928</td>\n",
       "      <td>29.565921052631502%</td>\n",
       "      <td>57.120000000000026%</td>\n",
       "      <td>3.8509868421052658%</td>\n",
       "      <td>4.35506578947368%</td>\n",
       "      <td>2.876578947368419%</td>\n",
       "      <td>0.16763157894736833%</td>\n",
       "      <td>54207.82095490716</td>\n",
       "      <td>3299088M_3342840F</td>\n",
       "      <td>3299088M</td>\n",
       "      <td>3342840F</td>\n",
       "      <td>3299088</td>\n",
       "      <td>3342840</td>\n",
       "    </tr>\n",
       "    <tr>\n",
       "      <th>3</th>\n",
       "      <td>3</td>\n",
       "      <td>Arkansas</td>\n",
       "      <td>2958208</td>\n",
       "      <td>6.215474452554738%</td>\n",
       "      <td>71.13781021897813%</td>\n",
       "      <td>18.968759124087573%</td>\n",
       "      <td>0.5229197080291965%</td>\n",
       "      <td>1.1423357664233578%</td>\n",
       "      <td>0.14686131386861315%</td>\n",
       "      <td>41935.63396778917</td>\n",
       "      <td>1451913M_1506295F</td>\n",
       "      <td>1451913M</td>\n",
       "      <td>1506295F</td>\n",
       "      <td>1451913</td>\n",
       "      <td>1506295</td>\n",
       "    </tr>\n",
       "    <tr>\n",
       "      <th>4</th>\n",
       "      <td>4</td>\n",
       "      <td>California</td>\n",
       "      <td>38421464</td>\n",
       "      <td>37.291874687968054%</td>\n",
       "      <td>40.21578881677474%</td>\n",
       "      <td>5.677396405391911%</td>\n",
       "      <td>0.40529206190713685%</td>\n",
       "      <td>13.052234148776776%</td>\n",
       "      <td>0.35141038442336353%</td>\n",
       "      <td>67264.78230266465</td>\n",
       "      <td>19087135M_19334329F</td>\n",
       "      <td>19087135M</td>\n",
       "      <td>19334329F</td>\n",
       "      <td>19087135</td>\n",
       "      <td>19334329</td>\n",
       "    </tr>\n",
       "  </tbody>\n",
       "</table>\n",
       "</div>"
      ],
      "text/plain": [
       "   Unnamed: 0       State  TotalPop             Hispanic                White  \\\n",
       "0           0     Alabama   4830620  3.7516156462584975%     61.878656462585%   \n",
       "1           1      Alaska    733375   5.909580838323351%  60.910179640718574%   \n",
       "2           2     Arizona   6641928  29.565921052631502%  57.120000000000026%   \n",
       "3           3    Arkansas   2958208   6.215474452554738%   71.13781021897813%   \n",
       "4           4  California  38421464  37.291874687968054%   40.21578881677474%   \n",
       "\n",
       "                 Black                Native                Asian  \\\n",
       "0   31.25297619047618%   0.4532312925170065%  1.0502551020408146%   \n",
       "1  2.8485029940119775%    16.39101796407186%   5.450299401197604%   \n",
       "2  3.8509868421052658%     4.35506578947368%   2.876578947368419%   \n",
       "3  18.968759124087573%   0.5229197080291965%  1.1423357664233578%   \n",
       "4   5.677396405391911%  0.40529206190713685%  13.052234148776776%   \n",
       "\n",
       "                Pacific             Income            GenderPop  \\\n",
       "0  0.03435374149659865%  43296.35860306644    2341093M_2489527F   \n",
       "1   1.0586826347305378%  70354.74390243902      384160M_349215F   \n",
       "2  0.16763157894736833%  54207.82095490716    3299088M_3342840F   \n",
       "3  0.14686131386861315%  41935.63396778917    1451913M_1506295F   \n",
       "4  0.35141038442336353%  67264.78230266465  19087135M_19334329F   \n",
       "\n",
       "  male_population female_population  male_pop female_pop  \n",
       "0        2341093M          2489527F   2341093    2489527  \n",
       "1         384160M           349215F    384160     349215  \n",
       "2        3299088M          3342840F   3299088    3342840  \n",
       "3        1451913M          1506295F   1451913    1506295  \n",
       "4       19087135M         19334329F  19087135   19334329  "
      ]
     },
     "execution_count": 10,
     "metadata": {},
     "output_type": "execute_result"
    }
   ],
   "source": [
    "us_census = pd.concat([us_census, pop_split], axis = 1)\n",
    "us_census.head()"
   ]
  },
  {
   "cell_type": "markdown",
   "metadata": {},
   "source": [
    "## Sort out the Columns we want and rename a couple"
   ]
  },
  {
   "cell_type": "code",
   "execution_count": 11,
   "metadata": {},
   "outputs": [
    {
     "data": {
      "text/html": [
       "<div>\n",
       "<style scoped>\n",
       "    .dataframe tbody tr th:only-of-type {\n",
       "        vertical-align: middle;\n",
       "    }\n",
       "\n",
       "    .dataframe tbody tr th {\n",
       "        vertical-align: top;\n",
       "    }\n",
       "\n",
       "    .dataframe thead th {\n",
       "        text-align: right;\n",
       "    }\n",
       "</style>\n",
       "<table border=\"1\" class=\"dataframe\">\n",
       "  <thead>\n",
       "    <tr style=\"text-align: right;\">\n",
       "      <th></th>\n",
       "      <th>State</th>\n",
       "      <th>TotalPop</th>\n",
       "      <th>Hispanic</th>\n",
       "      <th>White</th>\n",
       "      <th>Black</th>\n",
       "      <th>Native</th>\n",
       "      <th>Asian</th>\n",
       "      <th>Pacific</th>\n",
       "      <th>Income</th>\n",
       "      <th>male_population</th>\n",
       "      <th>female_population</th>\n",
       "    </tr>\n",
       "  </thead>\n",
       "  <tbody>\n",
       "    <tr>\n",
       "      <th>0</th>\n",
       "      <td>Alabama</td>\n",
       "      <td>4830620</td>\n",
       "      <td>3.7516156462584975%</td>\n",
       "      <td>61.878656462585%</td>\n",
       "      <td>31.25297619047618%</td>\n",
       "      <td>0.4532312925170065%</td>\n",
       "      <td>1.0502551020408146%</td>\n",
       "      <td>0.03435374149659865%</td>\n",
       "      <td>43296.35860306644</td>\n",
       "      <td>2341093</td>\n",
       "      <td>2489527</td>\n",
       "    </tr>\n",
       "    <tr>\n",
       "      <th>1</th>\n",
       "      <td>Alaska</td>\n",
       "      <td>733375</td>\n",
       "      <td>5.909580838323351%</td>\n",
       "      <td>60.910179640718574%</td>\n",
       "      <td>2.8485029940119775%</td>\n",
       "      <td>16.39101796407186%</td>\n",
       "      <td>5.450299401197604%</td>\n",
       "      <td>1.0586826347305378%</td>\n",
       "      <td>70354.74390243902</td>\n",
       "      <td>384160</td>\n",
       "      <td>349215</td>\n",
       "    </tr>\n",
       "    <tr>\n",
       "      <th>2</th>\n",
       "      <td>Arizona</td>\n",
       "      <td>6641928</td>\n",
       "      <td>29.565921052631502%</td>\n",
       "      <td>57.120000000000026%</td>\n",
       "      <td>3.8509868421052658%</td>\n",
       "      <td>4.35506578947368%</td>\n",
       "      <td>2.876578947368419%</td>\n",
       "      <td>0.16763157894736833%</td>\n",
       "      <td>54207.82095490716</td>\n",
       "      <td>3299088</td>\n",
       "      <td>3342840</td>\n",
       "    </tr>\n",
       "    <tr>\n",
       "      <th>3</th>\n",
       "      <td>Arkansas</td>\n",
       "      <td>2958208</td>\n",
       "      <td>6.215474452554738%</td>\n",
       "      <td>71.13781021897813%</td>\n",
       "      <td>18.968759124087573%</td>\n",
       "      <td>0.5229197080291965%</td>\n",
       "      <td>1.1423357664233578%</td>\n",
       "      <td>0.14686131386861315%</td>\n",
       "      <td>41935.63396778917</td>\n",
       "      <td>1451913</td>\n",
       "      <td>1506295</td>\n",
       "    </tr>\n",
       "    <tr>\n",
       "      <th>4</th>\n",
       "      <td>California</td>\n",
       "      <td>38421464</td>\n",
       "      <td>37.291874687968054%</td>\n",
       "      <td>40.21578881677474%</td>\n",
       "      <td>5.677396405391911%</td>\n",
       "      <td>0.40529206190713685%</td>\n",
       "      <td>13.052234148776776%</td>\n",
       "      <td>0.35141038442336353%</td>\n",
       "      <td>67264.78230266465</td>\n",
       "      <td>19087135</td>\n",
       "      <td>19334329</td>\n",
       "    </tr>\n",
       "  </tbody>\n",
       "</table>\n",
       "</div>"
      ],
      "text/plain": [
       "        State  TotalPop             Hispanic                White  \\\n",
       "0     Alabama   4830620  3.7516156462584975%     61.878656462585%   \n",
       "1      Alaska    733375   5.909580838323351%  60.910179640718574%   \n",
       "2     Arizona   6641928  29.565921052631502%  57.120000000000026%   \n",
       "3    Arkansas   2958208   6.215474452554738%   71.13781021897813%   \n",
       "4  California  38421464  37.291874687968054%   40.21578881677474%   \n",
       "\n",
       "                 Black                Native                Asian  \\\n",
       "0   31.25297619047618%   0.4532312925170065%  1.0502551020408146%   \n",
       "1  2.8485029940119775%    16.39101796407186%   5.450299401197604%   \n",
       "2  3.8509868421052658%     4.35506578947368%   2.876578947368419%   \n",
       "3  18.968759124087573%   0.5229197080291965%  1.1423357664233578%   \n",
       "4   5.677396405391911%  0.40529206190713685%  13.052234148776776%   \n",
       "\n",
       "                Pacific             Income male_population female_population  \n",
       "0  0.03435374149659865%  43296.35860306644         2341093           2489527  \n",
       "1   1.0586826347305378%  70354.74390243902          384160            349215  \n",
       "2  0.16763157894736833%  54207.82095490716         3299088           3342840  \n",
       "3  0.14686131386861315%  41935.63396778917         1451913           1506295  \n",
       "4  0.35141038442336353%  67264.78230266465        19087135          19334329  "
      ]
     },
     "execution_count": 11,
     "metadata": {},
     "output_type": "execute_result"
    }
   ],
   "source": [
    "# Gather the columns we want into the df\n",
    "us_census = us_census[['State', 'TotalPop', 'Hispanic', 'White', 'Black',\n",
    "       'Native', 'Asian', 'Pacific', 'Income', 'male_pop', 'female_pop',]]\n",
    "# Rename the male and female population columns\n",
    "us_census.columns = ['State', 'TotalPop', 'Hispanic', 'White', 'Black', 'Native', 'Asian',\n",
    "       'Pacific', 'Income', 'male_population', 'female_population']\n",
    "us_census.head()"
   ]
  },
  {
   "cell_type": "markdown",
   "metadata": {},
   "source": [
    "## Convert Data Types"
   ]
  },
  {
   "cell_type": "markdown",
   "metadata": {},
   "source": [
    "Convert both of the columns into numerical datatypes.\n",
    "\n"
   ]
  },
  {
   "cell_type": "code",
   "execution_count": 12,
   "metadata": {},
   "outputs": [
    {
     "data": {
      "text/plain": [
       "State                 object\n",
       "TotalPop               int64\n",
       "Hispanic              object\n",
       "White                 object\n",
       "Black                 object\n",
       "Native                object\n",
       "Asian                 object\n",
       "Pacific               object\n",
       "Income                object\n",
       "male_population        int64\n",
       "female_population    float64\n",
       "dtype: object"
      ]
     },
     "execution_count": 12,
     "metadata": {},
     "output_type": "execute_result"
    }
   ],
   "source": [
    "us_census.male_population = pd.to_numeric(us_census.male_population)\n",
    "us_census.female_population = pd.to_numeric(us_census.female_population)\n",
    "us_census.dtypes"
   ]
  },
  {
   "cell_type": "markdown",
   "metadata": {},
   "source": [
    "Now you should have the columns you need to make the graph and make sure your boss does not slam a ruler angrily on your desk because you’ve wasted your whole day cleaning your data with no results to show!\n",
    "\n",
    "Use matplotlib to make a scatterplot!\n"
   ]
  },
  {
   "cell_type": "markdown",
   "metadata": {},
   "source": [
    "## Make a scatter plot graph"
   ]
  },
  {
   "cell_type": "code",
   "execution_count": 13,
   "metadata": {},
   "outputs": [
    {
     "data": {
      "image/png": "[encoded data removed]",
      "text/plain": [
       "<Figure size 432x288 with 1 Axes>"
      ]
     },
     "metadata": {
      "needs_background": "light"
     },
     "output_type": "display_data"
    }
   ],
   "source": [
    "pyplot.scatter(us_census.female_population, us_census.Income) \n",
    "pyplot.show()"
   ]
  },
  {
   "cell_type": "markdown",
   "metadata": {},
   "source": [
    "## Check for NaN values (Not a Number)"
   ]
  },
  {
   "cell_type": "markdown",
   "metadata": {},
   "source": [
    "Did you get an error? These monstrous csv files probably have nan values in them! Print out your column with the number of women per state to see."
   ]
  },
  {
   "cell_type": "code",
   "execution_count": 14,
   "metadata": {},
   "outputs": [
    {
     "data": {
      "text/plain": [
       "0     2489527.0\n",
       "1      349215.0\n",
       "2     3342840.0\n",
       "3     1506295.0\n",
       "4    19334329.0\n",
       "5     2630239.0\n",
       "0     2630239.0\n",
       "1     1841615.0\n",
       "2      478041.0\n",
       "3      340810.0\n",
       "4    10045763.0\n",
       "5     5123362.0\n",
       "0     5123362.0\n",
       "1      696428.0\n",
       "2      806083.0\n",
       "Name: female_population, dtype: float64"
      ]
     },
     "execution_count": 14,
     "metadata": {},
     "output_type": "execute_result"
    }
   ],
   "source": [
    "us_census.female_population.head(15)"
   ]
  },
  {
   "cell_type": "code",
   "execution_count": 15,
   "metadata": {},
   "outputs": [
    {
     "data": {
      "text/plain": [
       "0    False\n",
       "1    False\n",
       "2    False\n",
       "3    False\n",
       "4    False\n",
       "5    False\n",
       "0    False\n",
       "1    False\n",
       "2    False\n",
       "3    False\n",
       "4    False\n",
       "5    False\n",
       "0    False\n",
       "1    False\n",
       "2    False\n",
       "Name: female_population, dtype: bool"
      ]
     },
     "execution_count": 15,
     "metadata": {},
     "output_type": "execute_result"
    }
   ],
   "source": [
    "fem_pop_nan = us_census.female_population.isnull()\n",
    "fem_pop_nan.head(15)"
   ]
  },
  {
   "cell_type": "code",
   "execution_count": 16,
   "metadata": {},
   "outputs": [
    {
     "data": {
      "text/plain": [
       "False    57\n",
       "True      3\n",
       "Name: female_population, dtype: int64"
      ]
     },
     "execution_count": 16,
     "metadata": {},
     "output_type": "execute_result"
    }
   ],
   "source": [
    "fem_pop_nan.value_counts()"
   ]
  },
  {
   "cell_type": "markdown",
   "metadata": {},
   "source": [
    "We can fill in those nans by using pandas’ .fillna() function.\n",
    "\n",
    "You have the TotalPop per state, and you have the Men per state. As an estimate for the nan values in the Women column, you could use the TotalPop of that state minus the Men for that state.\n",
    "\n",
    "Print out the Women column after filling the nan values to see if it worked!"
   ]
  },
  {
   "cell_type": "markdown",
   "metadata": {},
   "source": [
    "## Work out the best way to fill the NaN values"
   ]
  },
  {
   "cell_type": "code",
   "execution_count": 17,
   "metadata": {},
   "outputs": [
    {
     "data": {
      "text/plain": [
       "TotalPop             10006693.0\n",
       "male_population       4883331.0\n",
       "female_population     5123362.0\n",
       "Name: 0, dtype: float64"
      ]
     },
     "execution_count": 17,
     "metadata": {},
     "output_type": "execute_result"
    }
   ],
   "source": [
    "example_nan = us_census[['TotalPop', 'male_population', 'female_population']]\n",
    "example_nan.iloc[12]"
   ]
  },
  {
   "cell_type": "code",
   "execution_count": 18,
   "metadata": {},
   "outputs": [],
   "source": [
    "nan_value = us_census.TotalPop - us_census.male_population\n"
   ]
  },
  {
   "cell_type": "markdown",
   "metadata": {},
   "source": [
    "## Double check we got the expected result"
   ]
  },
  {
   "cell_type": "code",
   "execution_count": 19,
   "metadata": {},
   "outputs": [
    {
     "data": {
      "text/plain": [
       "TotalPop             10006693.0\n",
       "male_population       4883331.0\n",
       "female_population     5123362.0\n",
       "Name: 0, dtype: float64"
      ]
     },
     "execution_count": 19,
     "metadata": {},
     "output_type": "execute_result"
    }
   ],
   "source": [
    "us_census.female_population = us_census.female_population.fillna(value=nan_value)\n",
    "example_nan_fixed = us_census[['TotalPop', 'male_population', 'female_population']]\n",
    "example_nan_fixed.iloc[12]"
   ]
  },
  {
   "cell_type": "code",
   "execution_count": 20,
   "metadata": {},
   "outputs": [
    {
     "data": {
      "text/plain": [
       "0     2489527.0\n",
       "1      349215.0\n",
       "2     3342840.0\n",
       "3     1506295.0\n",
       "4    19334329.0\n",
       "5     2630239.0\n",
       "0     2630239.0\n",
       "1     1841615.0\n",
       "2      478041.0\n",
       "3      340810.0\n",
       "4    10045763.0\n",
       "5     5123362.0\n",
       "0     5123362.0\n",
       "1      696428.0\n",
       "2      806083.0\n",
       "Name: female_population, dtype: float64"
      ]
     },
     "execution_count": 20,
     "metadata": {},
     "output_type": "execute_result"
    }
   ],
   "source": [
    "us_census.female_population.head(15)"
   ]
  },
  {
   "cell_type": "markdown",
   "metadata": {},
   "source": [
    "We forgot to check for duplicates! Use .duplicated() on your census DataFrame to see if we have duplicate rows in there."
   ]
  },
  {
   "cell_type": "markdown",
   "metadata": {},
   "source": [
    "## Check for duplicates"
   ]
  },
  {
   "cell_type": "code",
   "execution_count": 21,
   "metadata": {},
   "outputs": [
    {
     "data": {
      "text/plain": [
       "False    51\n",
       "True      9\n",
       "dtype: int64"
      ]
     },
     "execution_count": 21,
     "metadata": {},
     "output_type": "execute_result"
    }
   ],
   "source": [
    "duplicates = us_census.duplicated()\n",
    "duplicates.value_counts()"
   ]
  },
  {
   "cell_type": "markdown",
   "metadata": {},
   "source": [
    "## Drop Dulicate entries"
   ]
  },
  {
   "cell_type": "markdown",
   "metadata": {},
   "source": [
    "Drop those duplicates using the .drop_duplicates() function."
   ]
  },
  {
   "cell_type": "code",
   "execution_count": 22,
   "metadata": {},
   "outputs": [
    {
     "data": {
      "text/plain": [
       "False    51\n",
       "dtype: int64"
      ]
     },
     "execution_count": 22,
     "metadata": {},
     "output_type": "execute_result"
    }
   ],
   "source": [
    "us_census = us_census.drop_duplicates()\n",
    "duplicates_check = us_census.duplicated()\n",
    "duplicates_check.value_counts()"
   ]
  },
  {
   "cell_type": "markdown",
   "metadata": {},
   "source": [
    "Make the scatterplot again. Now, it should be perfect! Your job is secure, for now."
   ]
  },
  {
   "cell_type": "code",
   "execution_count": 23,
   "metadata": {},
   "outputs": [
    {
     "data": {
      "image/png": "[encoded data removed]",
      "text/plain": [
       "<Figure size 432x288 with 1 Axes>"
      ]
     },
     "metadata": {
      "needs_background": "light"
     },
     "output_type": "display_data"
    }
   ],
   "source": [
    "pyplot.scatter(us_census.female_population, us_census.Income) \n",
    "pyplot.show()"
   ]
  },
  {
   "cell_type": "markdown",
   "metadata": {},
   "source": [
    "Now, your boss wants you to make a bunch of histograms out of the race data that you have. Look at the .columns again to see what the race categories are."
   ]
  },
  {
   "cell_type": "code",
   "execution_count": 24,
   "metadata": {},
   "outputs": [
    {
     "data": {
      "text/plain": [
       "Index(['State', 'TotalPop', 'Hispanic', 'White', 'Black', 'Native', 'Asian',\n",
       "       'Pacific', 'Income', 'male_population', 'female_population'],\n",
       "      dtype='object')"
      ]
     },
     "execution_count": 24,
     "metadata": {},
     "output_type": "execute_result"
    }
   ],
   "source": [
    "us_census.columns"
   ]
  },
  {
   "cell_type": "markdown",
   "metadata": {},
   "source": [
    "Try to make a histogram for each one!\n",
    "\n",
    "You will have to get the columns into numerical format, and those percentage signs will have to go.\n",
    "\n",
    "Don’t forget to fill the nan values with something that makes sense! You probably dropped the duplicate rows when making your last graph, but it couldn’t hurt to check for duplicates again."
   ]
  },
  {
   "cell_type": "code",
   "execution_count": 25,
   "metadata": {},
   "outputs": [
    {
     "data": {
      "text/html": [
       "<div>\n",
       "<style scoped>\n",
       "    .dataframe tbody tr th:only-of-type {\n",
       "        vertical-align: middle;\n",
       "    }\n",
       "\n",
       "    .dataframe tbody tr th {\n",
       "        vertical-align: top;\n",
       "    }\n",
       "\n",
       "    .dataframe thead th {\n",
       "        text-align: right;\n",
       "    }\n",
       "</style>\n",
       "<table border=\"1\" class=\"dataframe\">\n",
       "  <thead>\n",
       "    <tr style=\"text-align: right;\">\n",
       "      <th></th>\n",
       "      <th>State</th>\n",
       "      <th>TotalPop</th>\n",
       "      <th>Hispanic</th>\n",
       "      <th>White</th>\n",
       "      <th>Black</th>\n",
       "      <th>Native</th>\n",
       "      <th>Asian</th>\n",
       "      <th>Pacific</th>\n",
       "      <th>Income</th>\n",
       "      <th>male_population</th>\n",
       "      <th>female_population</th>\n",
       "    </tr>\n",
       "  </thead>\n",
       "  <tbody>\n",
       "    <tr>\n",
       "      <th>0</th>\n",
       "      <td>Alabama</td>\n",
       "      <td>4830620</td>\n",
       "      <td>3.7516156462584975%</td>\n",
       "      <td>61.878656462585%</td>\n",
       "      <td>31.25297619047618%</td>\n",
       "      <td>0.4532312925170065%</td>\n",
       "      <td>1.0502551020408146%</td>\n",
       "      <td>0.03435374149659865%</td>\n",
       "      <td>43296.35860306644</td>\n",
       "      <td>2341093</td>\n",
       "      <td>2489527.0</td>\n",
       "    </tr>\n",
       "    <tr>\n",
       "      <th>1</th>\n",
       "      <td>Alaska</td>\n",
       "      <td>733375</td>\n",
       "      <td>5.909580838323351%</td>\n",
       "      <td>60.910179640718574%</td>\n",
       "      <td>2.8485029940119775%</td>\n",
       "      <td>16.39101796407186%</td>\n",
       "      <td>5.450299401197604%</td>\n",
       "      <td>1.0586826347305378%</td>\n",
       "      <td>70354.74390243902</td>\n",
       "      <td>384160</td>\n",
       "      <td>349215.0</td>\n",
       "    </tr>\n",
       "    <tr>\n",
       "      <th>2</th>\n",
       "      <td>Arizona</td>\n",
       "      <td>6641928</td>\n",
       "      <td>29.565921052631502%</td>\n",
       "      <td>57.120000000000026%</td>\n",
       "      <td>3.8509868421052658%</td>\n",
       "      <td>4.35506578947368%</td>\n",
       "      <td>2.876578947368419%</td>\n",
       "      <td>0.16763157894736833%</td>\n",
       "      <td>54207.82095490716</td>\n",
       "      <td>3299088</td>\n",
       "      <td>3342840.0</td>\n",
       "    </tr>\n",
       "    <tr>\n",
       "      <th>3</th>\n",
       "      <td>Arkansas</td>\n",
       "      <td>2958208</td>\n",
       "      <td>6.215474452554738%</td>\n",
       "      <td>71.13781021897813%</td>\n",
       "      <td>18.968759124087573%</td>\n",
       "      <td>0.5229197080291965%</td>\n",
       "      <td>1.1423357664233578%</td>\n",
       "      <td>0.14686131386861315%</td>\n",
       "      <td>41935.63396778917</td>\n",
       "      <td>1451913</td>\n",
       "      <td>1506295.0</td>\n",
       "    </tr>\n",
       "    <tr>\n",
       "      <th>4</th>\n",
       "      <td>California</td>\n",
       "      <td>38421464</td>\n",
       "      <td>37.291874687968054%</td>\n",
       "      <td>40.21578881677474%</td>\n",
       "      <td>5.677396405391911%</td>\n",
       "      <td>0.40529206190713685%</td>\n",
       "      <td>13.052234148776776%</td>\n",
       "      <td>0.35141038442336353%</td>\n",
       "      <td>67264.78230266465</td>\n",
       "      <td>19087135</td>\n",
       "      <td>19334329.0</td>\n",
       "    </tr>\n",
       "  </tbody>\n",
       "</table>\n",
       "</div>"
      ],
      "text/plain": [
       "        State  TotalPop             Hispanic                White  \\\n",
       "0     Alabama   4830620  3.7516156462584975%     61.878656462585%   \n",
       "1      Alaska    733375   5.909580838323351%  60.910179640718574%   \n",
       "2     Arizona   6641928  29.565921052631502%  57.120000000000026%   \n",
       "3    Arkansas   2958208   6.215474452554738%   71.13781021897813%   \n",
       "4  California  38421464  37.291874687968054%   40.21578881677474%   \n",
       "\n",
       "                 Black                Native                Asian  \\\n",
       "0   31.25297619047618%   0.4532312925170065%  1.0502551020408146%   \n",
       "1  2.8485029940119775%    16.39101796407186%   5.450299401197604%   \n",
       "2  3.8509868421052658%     4.35506578947368%   2.876578947368419%   \n",
       "3  18.968759124087573%   0.5229197080291965%  1.1423357664233578%   \n",
       "4   5.677396405391911%  0.40529206190713685%  13.052234148776776%   \n",
       "\n",
       "                Pacific             Income  male_population  female_population  \n",
       "0  0.03435374149659865%  43296.35860306644          2341093          2489527.0  \n",
       "1   1.0586826347305378%  70354.74390243902           384160           349215.0  \n",
       "2  0.16763157894736833%  54207.82095490716          3299088          3342840.0  \n",
       "3  0.14686131386861315%  41935.63396778917          1451913          1506295.0  \n",
       "4  0.35141038442336353%  67264.78230266465         19087135         19334329.0  "
      ]
     },
     "execution_count": 25,
     "metadata": {},
     "output_type": "execute_result"
    }
   ],
   "source": [
    "us_census.head()"
   ]
  },
  {
   "cell_type": "markdown",
   "metadata": {},
   "source": [
    "## Remove % sign and change data types"
   ]
  },
  {
   "cell_type": "code",
   "execution_count": 26,
   "metadata": {},
   "outputs": [
    {
     "data": {
      "text/html": [
       "<div>\n",
       "<style scoped>\n",
       "    .dataframe tbody tr th:only-of-type {\n",
       "        vertical-align: middle;\n",
       "    }\n",
       "\n",
       "    .dataframe tbody tr th {\n",
       "        vertical-align: top;\n",
       "    }\n",
       "\n",
       "    .dataframe thead th {\n",
       "        text-align: right;\n",
       "    }\n",
       "</style>\n",
       "<table border=\"1\" class=\"dataframe\">\n",
       "  <thead>\n",
       "    <tr style=\"text-align: right;\">\n",
       "      <th></th>\n",
       "      <th>State</th>\n",
       "      <th>TotalPop</th>\n",
       "      <th>Hispanic</th>\n",
       "      <th>White</th>\n",
       "      <th>Black</th>\n",
       "      <th>Native</th>\n",
       "      <th>Asian</th>\n",
       "      <th>Pacific</th>\n",
       "      <th>Income</th>\n",
       "      <th>male_population</th>\n",
       "      <th>female_population</th>\n",
       "    </tr>\n",
       "  </thead>\n",
       "  <tbody>\n",
       "    <tr>\n",
       "      <th>0</th>\n",
       "      <td>Alabama</td>\n",
       "      <td>4830620</td>\n",
       "      <td>3.7516156462584975</td>\n",
       "      <td>61.878656462585</td>\n",
       "      <td>31.25297619047618</td>\n",
       "      <td>0.4532312925170065</td>\n",
       "      <td>1.0502551020408146</td>\n",
       "      <td>0.03435374149659865</td>\n",
       "      <td>43296.35860306644</td>\n",
       "      <td>2341093</td>\n",
       "      <td>2489527.0</td>\n",
       "    </tr>\n",
       "    <tr>\n",
       "      <th>1</th>\n",
       "      <td>Alaska</td>\n",
       "      <td>733375</td>\n",
       "      <td>5.909580838323351</td>\n",
       "      <td>60.910179640718574</td>\n",
       "      <td>2.8485029940119775</td>\n",
       "      <td>16.39101796407186</td>\n",
       "      <td>5.450299401197604</td>\n",
       "      <td>1.0586826347305378</td>\n",
       "      <td>70354.74390243902</td>\n",
       "      <td>384160</td>\n",
       "      <td>349215.0</td>\n",
       "    </tr>\n",
       "    <tr>\n",
       "      <th>2</th>\n",
       "      <td>Arizona</td>\n",
       "      <td>6641928</td>\n",
       "      <td>29.565921052631502</td>\n",
       "      <td>57.120000000000026</td>\n",
       "      <td>3.8509868421052658</td>\n",
       "      <td>4.35506578947368</td>\n",
       "      <td>2.876578947368419</td>\n",
       "      <td>0.16763157894736833</td>\n",
       "      <td>54207.82095490716</td>\n",
       "      <td>3299088</td>\n",
       "      <td>3342840.0</td>\n",
       "    </tr>\n",
       "    <tr>\n",
       "      <th>3</th>\n",
       "      <td>Arkansas</td>\n",
       "      <td>2958208</td>\n",
       "      <td>6.215474452554738</td>\n",
       "      <td>71.13781021897813</td>\n",
       "      <td>18.968759124087573</td>\n",
       "      <td>0.5229197080291965</td>\n",
       "      <td>1.1423357664233578</td>\n",
       "      <td>0.14686131386861315</td>\n",
       "      <td>41935.63396778917</td>\n",
       "      <td>1451913</td>\n",
       "      <td>1506295.0</td>\n",
       "    </tr>\n",
       "    <tr>\n",
       "      <th>4</th>\n",
       "      <td>California</td>\n",
       "      <td>38421464</td>\n",
       "      <td>37.291874687968054</td>\n",
       "      <td>40.21578881677474</td>\n",
       "      <td>5.677396405391911</td>\n",
       "      <td>0.40529206190713685</td>\n",
       "      <td>13.052234148776776</td>\n",
       "      <td>0.35141038442336353</td>\n",
       "      <td>67264.78230266465</td>\n",
       "      <td>19087135</td>\n",
       "      <td>19334329.0</td>\n",
       "    </tr>\n",
       "  </tbody>\n",
       "</table>\n",
       "</div>"
      ],
      "text/plain": [
       "        State  TotalPop            Hispanic               White  \\\n",
       "0     Alabama   4830620  3.7516156462584975     61.878656462585   \n",
       "1      Alaska    733375   5.909580838323351  60.910179640718574   \n",
       "2     Arizona   6641928  29.565921052631502  57.120000000000026   \n",
       "3    Arkansas   2958208   6.215474452554738   71.13781021897813   \n",
       "4  California  38421464  37.291874687968054   40.21578881677474   \n",
       "\n",
       "                Black               Native               Asian  \\\n",
       "0   31.25297619047618   0.4532312925170065  1.0502551020408146   \n",
       "1  2.8485029940119775    16.39101796407186   5.450299401197604   \n",
       "2  3.8509868421052658     4.35506578947368   2.876578947368419   \n",
       "3  18.968759124087573   0.5229197080291965  1.1423357664233578   \n",
       "4   5.677396405391911  0.40529206190713685  13.052234148776776   \n",
       "\n",
       "               Pacific             Income  male_population  female_population  \n",
       "0  0.03435374149659865  43296.35860306644          2341093          2489527.0  \n",
       "1   1.0586826347305378  70354.74390243902           384160           349215.0  \n",
       "2  0.16763157894736833  54207.82095490716          3299088          3342840.0  \n",
       "3  0.14686131386861315  41935.63396778917          1451913          1506295.0  \n",
       "4  0.35141038442336353  67264.78230266465         19087135         19334329.0  "
      ]
     },
     "execution_count": 26,
     "metadata": {},
     "output_type": "execute_result"
    }
   ],
   "source": [
    "us_census.Hispanic = us_census.Hispanic.replace('[\\%]', '', regex=True)\n",
    "us_census.White = us_census.White.replace('[\\%]', '', regex=True)\n",
    "us_census.Black = us_census.Black.replace('[\\%]', '', regex=True)\n",
    "us_census.Native = us_census.Native.replace('[\\%]', '', regex=True)\n",
    "us_census.Asian = us_census.Asian.replace('[\\%]', '', regex=True)\n",
    "us_census.Pacific = us_census.Pacific.replace('[\\%]', '', regex=True)\n",
    "us_census.head()"
   ]
  },
  {
   "cell_type": "code",
   "execution_count": 27,
   "metadata": {},
   "outputs": [
    {
     "data": {
      "text/plain": [
       "State                 object\n",
       "TotalPop               int64\n",
       "Hispanic             float64\n",
       "White                float64\n",
       "Black                float64\n",
       "Native               float64\n",
       "Asian                float64\n",
       "Pacific              float64\n",
       "Income                object\n",
       "male_population        int64\n",
       "female_population    float64\n",
       "dtype: object"
      ]
     },
     "execution_count": 27,
     "metadata": {},
     "output_type": "execute_result"
    }
   ],
   "source": [
    "us_census.Hispanic = pd.to_numeric(us_census.Hispanic)\n",
    "us_census.White = pd.to_numeric(us_census.White)\n",
    "us_census.Black = pd.to_numeric(us_census.Black)\n",
    "us_census.Native = pd.to_numeric(us_census.Native)\n",
    "us_census.Asian = pd.to_numeric(us_census.Asian)\n",
    "us_census.Pacific = pd.to_numeric(us_census.Pacific)\n",
    "us_census.dtypes"
   ]
  },
  {
   "cell_type": "markdown",
   "metadata": {},
   "source": [
    "## Check for NaN values"
   ]
  },
  {
   "cell_type": "code",
   "execution_count": 28,
   "metadata": {},
   "outputs": [],
   "source": [
    "Hnan = us_census.Hispanic.isnull()\n",
    "Wnan = us_census.White.isnull()\n",
    "Bnan = us_census.Black.isnull()\n",
    "Nnan = us_census.Native.isnull()\n",
    "Anan = us_census.Asian.isnull()\n",
    "Pnan = us_census.Pacific.isnull()\n",
    "    "
   ]
  },
  {
   "cell_type": "code",
   "execution_count": 29,
   "metadata": {},
   "outputs": [
    {
     "data": {
      "text/plain": [
       "False    51\n",
       "Name: Hispanic, dtype: int64"
      ]
     },
     "execution_count": 29,
     "metadata": {},
     "output_type": "execute_result"
    }
   ],
   "source": [
    "Hnan.value_counts()"
   ]
  },
  {
   "cell_type": "code",
   "execution_count": 30,
   "metadata": {},
   "outputs": [
    {
     "data": {
      "text/plain": [
       "False    51\n",
       "Name: White, dtype: int64"
      ]
     },
     "execution_count": 30,
     "metadata": {},
     "output_type": "execute_result"
    }
   ],
   "source": [
    "Wnan.value_counts()"
   ]
  },
  {
   "cell_type": "code",
   "execution_count": 31,
   "metadata": {},
   "outputs": [
    {
     "data": {
      "text/plain": [
       "False    51\n",
       "Name: Black, dtype: int64"
      ]
     },
     "execution_count": 31,
     "metadata": {},
     "output_type": "execute_result"
    }
   ],
   "source": [
    "Bnan.value_counts()"
   ]
  },
  {
   "cell_type": "code",
   "execution_count": 32,
   "metadata": {},
   "outputs": [
    {
     "data": {
      "text/plain": [
       "False    51\n",
       "Name: Native, dtype: int64"
      ]
     },
     "execution_count": 32,
     "metadata": {},
     "output_type": "execute_result"
    }
   ],
   "source": [
    "Nnan.value_counts()"
   ]
  },
  {
   "cell_type": "code",
   "execution_count": 33,
   "metadata": {},
   "outputs": [
    {
     "data": {
      "text/plain": [
       "False    51\n",
       "Name: Asian, dtype: int64"
      ]
     },
     "execution_count": 33,
     "metadata": {},
     "output_type": "execute_result"
    }
   ],
   "source": [
    "Anan.value_counts()"
   ]
  },
  {
   "cell_type": "code",
   "execution_count": 34,
   "metadata": {},
   "outputs": [
    {
     "data": {
      "text/plain": [
       "False    47\n",
       "True      4\n",
       "Name: Pacific, dtype: int64"
      ]
     },
     "execution_count": 34,
     "metadata": {},
     "output_type": "execute_result"
    }
   ],
   "source": [
    "Pnan.value_counts() # has 4 nan values we need to get rid of"
   ]
  },
  {
   "cell_type": "markdown",
   "metadata": {},
   "source": [
    "## Work out the best way to replace the NaN values"
   ]
  },
  {
   "cell_type": "markdown",
   "metadata": {},
   "source": [
    "We should be able to find the missing percentage as we have the others and they should all add up to 100%"
   ]
  },
  {
   "cell_type": "code",
   "execution_count": 35,
   "metadata": {},
   "outputs": [],
   "source": [
    "# nan_value = 100 -(us_census.Hispanic + us_census.White + us_census.Black + us_census.Native + us_census.Asian)\n",
    "# us_census.Pacific = us_census.Pacific.fillna(value=nan_value)\n",
    "# us_census.Pacific\n",
    "\n",
    "# After having checked, the mean value of the column seems more realistic."
   ]
  },
  {
   "cell_type": "markdown",
   "metadata": {},
   "source": [
    "```0    0.035833\n",
    "1    0.046978\n",
    "2    0.041892\n",
    "3    0.043156\n",
    "4    0.068816\n",
    "5    0.825983\n",
    "1    0.030601\n",
    "2    0.064715\n",
    "3    0.609896\n",
    "4    0.026446\n",
    "5    0.020833\n",
    "0    0.036285\n",
    "1    0.019809\n",
    "2    0.019549\n",
    "3    0.032909\n",
    "4    0.015046\n",
    "5    0.101657\n",
    "1    0.072222\n",
    "2    0.057143\n",
    "3    0.574521\n",
    "4    0.016096\n",
    "5    0.031319\n",
    "0    0.022645\n",
    "1    0.106220\n",
    "2    0.345333\n",
    "3    0.019394\n",
    "4    0.001240\n",
    "1    0.042771\n",
    "2    0.023451\n",
    "3    0.052326\n",
    "4    1.821463\n",
    "0    0.046602\n",
    "1    8.758861\n",
    "2    0.127181\n",
    "3    0.020032\n",
    "4    0.032625\n",
    "5    0.055164\n",
    "1    2.764474\n",
    "2    0.046438\n",
    "3    0.039184\n",
    "4    0.015670\n",
    "0    2.537842\n",
    "1    0.018599\n",
    "2    2.270093\n",
    "3    0.029609\n",
    "4    0.051510\n",
    "Name: Pacific, dtype: float64```"
   ]
  },
  {
   "cell_type": "code",
   "execution_count": 36,
   "metadata": {},
   "outputs": [],
   "source": [
    "nan_value = us_census.Pacific.mean()\n",
    "us_census.Pacific = us_census.Pacific.fillna(value=nan_value)"
   ]
  },
  {
   "cell_type": "code",
   "execution_count": 37,
   "metadata": {},
   "outputs": [
    {
     "data": {
      "text/plain": [
       "0    0.034354\n",
       "1    1.058683\n",
       "2    0.167632\n",
       "3    0.146861\n",
       "4    0.351410\n",
       "5    0.306500\n",
       "1    0.018599\n",
       "2    0.306500\n",
       "3    0.029609\n",
       "4    0.051510\n",
       "5    0.046602\n",
       "1    8.758861\n",
       "2    0.127181\n",
       "3    0.020032\n",
       "4    0.032625\n",
       "5    0.055164\n",
       "1    0.306500\n",
       "2    0.046438\n",
       "3    0.039184\n",
       "4    0.015670\n",
       "5    0.036285\n",
       "1    0.019809\n",
       "2    0.019549\n",
       "3    0.032909\n",
       "4    0.015046\n",
       "5    0.101657\n",
       "1    0.072222\n",
       "2    0.057143\n",
       "3    0.574521\n",
       "4    0.016096\n",
       "5    0.031319\n",
       "1    0.042771\n",
       "2    0.023451\n",
       "3    0.052326\n",
       "4    0.306500\n",
       "5    0.022645\n",
       "1    0.106220\n",
       "2    0.345333\n",
       "3    0.019394\n",
       "4    0.001240\n",
       "5    0.035833\n",
       "1    0.046978\n",
       "2    0.041892\n",
       "3    0.043156\n",
       "4    0.068816\n",
       "5    0.825983\n",
       "1    0.030601\n",
       "2    0.064715\n",
       "3    0.609896\n",
       "4    0.026446\n",
       "5    0.020833\n",
       "Name: Pacific, dtype: float64"
      ]
     },
     "execution_count": 37,
     "metadata": {},
     "output_type": "execute_result"
    }
   ],
   "source": [
    "us_census.Pacific"
   ]
  },
  {
   "cell_type": "code",
   "execution_count": 38,
   "metadata": {},
   "outputs": [
    {
     "data": {
      "text/html": [
       "<div>\n",
       "<style scoped>\n",
       "    .dataframe tbody tr th:only-of-type {\n",
       "        vertical-align: middle;\n",
       "    }\n",
       "\n",
       "    .dataframe tbody tr th {\n",
       "        vertical-align: top;\n",
       "    }\n",
       "\n",
       "    .dataframe thead th {\n",
       "        text-align: right;\n",
       "    }\n",
       "</style>\n",
       "<table border=\"1\" class=\"dataframe\">\n",
       "  <thead>\n",
       "    <tr style=\"text-align: right;\">\n",
       "      <th></th>\n",
       "      <th>State</th>\n",
       "      <th>TotalPop</th>\n",
       "      <th>Hispanic</th>\n",
       "      <th>White</th>\n",
       "      <th>Black</th>\n",
       "      <th>Native</th>\n",
       "      <th>Asian</th>\n",
       "      <th>Pacific</th>\n",
       "      <th>Income</th>\n",
       "      <th>male_population</th>\n",
       "      <th>female_population</th>\n",
       "    </tr>\n",
       "  </thead>\n",
       "  <tbody>\n",
       "    <tr>\n",
       "      <th>0</th>\n",
       "      <td>Alabama</td>\n",
       "      <td>4830620</td>\n",
       "      <td>3.751616</td>\n",
       "      <td>61.878656</td>\n",
       "      <td>31.252976</td>\n",
       "      <td>0.453231</td>\n",
       "      <td>1.050255</td>\n",
       "      <td>0.034354</td>\n",
       "      <td>43296.35860306644</td>\n",
       "      <td>2341093</td>\n",
       "      <td>2489527.0</td>\n",
       "    </tr>\n",
       "    <tr>\n",
       "      <th>1</th>\n",
       "      <td>Alaska</td>\n",
       "      <td>733375</td>\n",
       "      <td>5.909581</td>\n",
       "      <td>60.910180</td>\n",
       "      <td>2.848503</td>\n",
       "      <td>16.391018</td>\n",
       "      <td>5.450299</td>\n",
       "      <td>1.058683</td>\n",
       "      <td>70354.74390243902</td>\n",
       "      <td>384160</td>\n",
       "      <td>349215.0</td>\n",
       "    </tr>\n",
       "    <tr>\n",
       "      <th>2</th>\n",
       "      <td>Arizona</td>\n",
       "      <td>6641928</td>\n",
       "      <td>29.565921</td>\n",
       "      <td>57.120000</td>\n",
       "      <td>3.850987</td>\n",
       "      <td>4.355066</td>\n",
       "      <td>2.876579</td>\n",
       "      <td>0.167632</td>\n",
       "      <td>54207.82095490716</td>\n",
       "      <td>3299088</td>\n",
       "      <td>3342840.0</td>\n",
       "    </tr>\n",
       "    <tr>\n",
       "      <th>3</th>\n",
       "      <td>Arkansas</td>\n",
       "      <td>2958208</td>\n",
       "      <td>6.215474</td>\n",
       "      <td>71.137810</td>\n",
       "      <td>18.968759</td>\n",
       "      <td>0.522920</td>\n",
       "      <td>1.142336</td>\n",
       "      <td>0.146861</td>\n",
       "      <td>41935.63396778917</td>\n",
       "      <td>1451913</td>\n",
       "      <td>1506295.0</td>\n",
       "    </tr>\n",
       "    <tr>\n",
       "      <th>4</th>\n",
       "      <td>California</td>\n",
       "      <td>38421464</td>\n",
       "      <td>37.291875</td>\n",
       "      <td>40.215789</td>\n",
       "      <td>5.677396</td>\n",
       "      <td>0.405292</td>\n",
       "      <td>13.052234</td>\n",
       "      <td>0.351410</td>\n",
       "      <td>67264.78230266465</td>\n",
       "      <td>19087135</td>\n",
       "      <td>19334329.0</td>\n",
       "    </tr>\n",
       "  </tbody>\n",
       "</table>\n",
       "</div>"
      ],
      "text/plain": [
       "        State  TotalPop   Hispanic      White      Black     Native  \\\n",
       "0     Alabama   4830620   3.751616  61.878656  31.252976   0.453231   \n",
       "1      Alaska    733375   5.909581  60.910180   2.848503  16.391018   \n",
       "2     Arizona   6641928  29.565921  57.120000   3.850987   4.355066   \n",
       "3    Arkansas   2958208   6.215474  71.137810  18.968759   0.522920   \n",
       "4  California  38421464  37.291875  40.215789   5.677396   0.405292   \n",
       "\n",
       "       Asian   Pacific             Income  male_population  female_population  \n",
       "0   1.050255  0.034354  43296.35860306644          2341093          2489527.0  \n",
       "1   5.450299  1.058683  70354.74390243902           384160           349215.0  \n",
       "2   2.876579  0.167632  54207.82095490716          3299088          3342840.0  \n",
       "3   1.142336  0.146861  41935.63396778917          1451913          1506295.0  \n",
       "4  13.052234  0.351410  67264.78230266465         19087135         19334329.0  "
      ]
     },
     "execution_count": 38,
     "metadata": {},
     "output_type": "execute_result"
    }
   ],
   "source": [
    "us_census.head()"
   ]
  },
  {
   "cell_type": "markdown",
   "metadata": {},
   "source": [
    "## Plot Histograms "
   ]
  },
  {
   "cell_type": "code",
   "execution_count": 39,
   "metadata": {},
   "outputs": [
    {
     "data": {
      "image/png": "[encoded data removed]",
      "text/plain": [
       "<Figure size 432x288 with 1 Axes>"
      ]
     },
     "metadata": {
      "needs_background": "light"
     },
     "output_type": "display_data"
    }
   ],
   "source": [
    "pyplot.hist(us_census.Hispanic)\n",
    "pyplot.xlabel('Percentage')\n",
    "pyplot.ylabel('Frequency of occurance')\n",
    "pyplot.show()"
   ]
  },
  {
   "cell_type": "code",
   "execution_count": 40,
   "metadata": {},
   "outputs": [
    {
     "data": {
      "image/png": "[encoded data removed]",
      "text/plain": [
       "<Figure size 432x288 with 1 Axes>"
      ]
     },
     "metadata": {
      "needs_background": "light"
     },
     "output_type": "display_data"
    }
   ],
   "source": [
    "pyplot.hist(us_census.White)\n",
    "pyplot.xlabel('Percentage')\n",
    "pyplot.ylabel('Frequency of occurance')\n",
    "pyplot.show()"
   ]
  },
  {
   "cell_type": "code",
   "execution_count": 41,
   "metadata": {},
   "outputs": [
    {
     "data": {
      "image/png": "[encoded data removed]",
      "text/plain": [
       "<Figure size 432x288 with 1 Axes>"
      ]
     },
     "metadata": {
      "needs_background": "light"
     },
     "output_type": "display_data"
    }
   ],
   "source": [
    "pyplot.hist(us_census.Black)\n",
    "pyplot.xlabel('Percentage')\n",
    "pyplot.ylabel('Frequency of occurance')\n",
    "pyplot.show()"
   ]
  },
  {
   "cell_type": "code",
   "execution_count": 42,
   "metadata": {},
   "outputs": [
    {
     "data": {
      "image/png": "[encoded data removed]",
      "text/plain": [
       "<Figure size 432x288 with 1 Axes>"
      ]
     },
     "metadata": {
      "needs_background": "light"
     },
     "output_type": "display_data"
    }
   ],
   "source": [
    "pyplot.hist(us_census.Native)\n",
    "pyplot.xlabel('Percentage')\n",
    "pyplot.ylabel('Frequency of occurance')\n",
    "pyplot.show()"
   ]
  },
  {
   "cell_type": "code",
   "execution_count": 43,
   "metadata": {},
   "outputs": [
    {
     "data": {
      "image/png": "[encoded data removed]",
      "text/plain": [
       "<Figure size 432x288 with 1 Axes>"
      ]
     },
     "metadata": {
      "needs_background": "light"
     },
     "output_type": "display_data"
    }
   ],
   "source": [
    "pyplot.hist(us_census.Asian)\n",
    "pyplot.xlabel('Percentage')\n",
    "pyplot.ylabel('Frequency of occurance')\n",
    "pyplot.show()"
   ]
  },
  {
   "cell_type": "code",
   "execution_count": 44,
   "metadata": {},
   "outputs": [
    {
     "data": {
      "image/png": "[encoded data removed]",
      "text/plain": [
       "<Figure size 432x288 with 1 Axes>"
      ]
     },
     "metadata": {
      "needs_background": "light"
     },
     "output_type": "display_data"
    }
   ],
   "source": [
    "pyplot.hist(us_census.Pacific)\n",
    "pyplot.xlabel('Percentage')\n",
    "pyplot.ylabel('Frequency of occurance')\n",
    "pyplot.show()"
   ]
  },
  {
   "cell_type": "markdown",
   "metadata": {},
   "source": [
    "# 2.Power Inventory"
   ]
  },
  {
   "cell_type": "code",
   "execution_count": 45,
   "metadata": {},
   "outputs": [],
   "source": [
    "# Data for all of the locations of Petal Power is in the file inventory.csv. \n",
    "# Load the data into a DataFrame called inventory."
   ]
  },
  {
   "cell_type": "code",
   "execution_count": 46,
   "metadata": {},
   "outputs": [
    {
     "name": "stdout",
     "output_type": "stream",
     "text": [
      "        location  product_type         product_description  quantity  price\n",
      "0  Staten Island         seeds                       daisy         4   6.99\n",
      "1  Staten Island         seeds                  calla lily        46  19.99\n",
      "2  Staten Island         seeds                      tomato        85  13.99\n",
      "3  Staten Island  garden tools                        rake         4  13.99\n",
      "4  Staten Island  garden tools                 wheelbarrow         0  89.99\n",
      "5  Staten Island  garden tools                       spade        93  19.99\n",
      "6  Staten Island  pest_control               insect killer        74  12.99\n",
      "7  Staten Island  pest_control                 weed killer         8  23.99\n",
      "8  Staten Island       planter  20 inch terracotta planter         0  17.99\n",
      "9  Staten Island       planter      8 inch plastic planter        53   3.99\n"
     ]
    }
   ],
   "source": [
    "inventory = pd.read_csv('inventory.csv')\n",
    "print(inventory.head(10))"
   ]
  },
  {
   "cell_type": "code",
   "execution_count": 47,
   "metadata": {},
   "outputs": [],
   "source": [
    "# The first 10 rows represent data from your Staten Island location.\n",
    "# Select these rows and save them to staten_island."
   ]
  },
  {
   "cell_type": "code",
   "execution_count": 48,
   "metadata": {},
   "outputs": [
    {
     "name": "stdout",
     "output_type": "stream",
     "text": [
      "        location  product_type         product_description  quantity  price\n",
      "0  Staten Island         seeds                       daisy         4   6.99\n",
      "1  Staten Island         seeds                  calla lily        46  19.99\n",
      "2  Staten Island         seeds                      tomato        85  13.99\n",
      "3  Staten Island  garden tools                        rake         4  13.99\n",
      "4  Staten Island  garden tools                 wheelbarrow         0  89.99\n",
      "5  Staten Island  garden tools                       spade        93  19.99\n",
      "6  Staten Island  pest_control               insect killer        74  12.99\n",
      "7  Staten Island  pest_control                 weed killer         8  23.99\n",
      "8  Staten Island       planter  20 inch terracotta planter         0  17.99\n",
      "9  Staten Island       planter      8 inch plastic planter        53   3.99\n"
     ]
    }
   ],
   "source": [
    "staten_island = inventory.head(10)\n",
    "print(staten_island)"
   ]
  },
  {
   "cell_type": "code",
   "execution_count": 49,
   "metadata": {},
   "outputs": [],
   "source": [
    "# A customer just emailed you asking what products are sold at your Staten Island location. \n",
    "# Select the column product_description from staten_island and save it to the variable product_request."
   ]
  },
  {
   "cell_type": "code",
   "execution_count": 50,
   "metadata": {},
   "outputs": [],
   "source": [
    "product_request = staten_island.product_description"
   ]
  },
  {
   "cell_type": "code",
   "execution_count": 51,
   "metadata": {},
   "outputs": [],
   "source": [
    "# Another customer emails to ask what types of seeds are sold at the Brooklyn location. \n",
    "# Select all rows where location is equal to Brooklyn and product_type is equal to seeds and save them to the variable seed_request."
   ]
  },
  {
   "cell_type": "code",
   "execution_count": 52,
   "metadata": {},
   "outputs": [
    {
     "name": "stdout",
     "output_type": "stream",
     "text": [
      "    location product_type product_description  quantity  price\n",
      "10  Brooklyn        seeds               daisy        50   6.99\n",
      "11  Brooklyn        seeds          calla lily         0  19.99\n",
      "12  Brooklyn        seeds              tomato         0  13.99\n"
     ]
    }
   ],
   "source": [
    "seed_request = inventory[(inventory.location == \"Brooklyn\") & (inventory.product_type == \"seeds\")]\n",
    "print(seed_request)"
   ]
  },
  {
   "cell_type": "code",
   "execution_count": 53,
   "metadata": {},
   "outputs": [],
   "source": [
    "# Add a column to inventory called in_stock which is True if quantity is greater than 0 and False if quantity equals 0."
   ]
  },
  {
   "cell_type": "code",
   "execution_count": 54,
   "metadata": {},
   "outputs": [
    {
     "name": "stdout",
     "output_type": "stream",
     "text": [
      "         location  product_type         product_description  quantity  price  \\\n",
      "0   Staten Island         seeds                       daisy         4   6.99   \n",
      "1   Staten Island         seeds                  calla lily        46  19.99   \n",
      "2   Staten Island         seeds                      tomato        85  13.99   \n",
      "3   Staten Island  garden tools                        rake         4  13.99   \n",
      "4   Staten Island  garden tools                 wheelbarrow         0  89.99   \n",
      "5   Staten Island  garden tools                       spade        93  19.99   \n",
      "6   Staten Island  pest_control               insect killer        74  12.99   \n",
      "7   Staten Island  pest_control                 weed killer         8  23.99   \n",
      "8   Staten Island       planter  20 inch terracotta planter         0  17.99   \n",
      "9   Staten Island       planter      8 inch plastic planter        53   3.99   \n",
      "10       Brooklyn         seeds                       daisy        50   6.99   \n",
      "11       Brooklyn         seeds                  calla lily         0  19.99   \n",
      "12       Brooklyn         seeds                      tomato         0  13.99   \n",
      "13       Brooklyn  garden tools                        rake        15  13.99   \n",
      "14       Brooklyn  garden tools                 wheelbarrow        82  89.99   \n",
      "15       Brooklyn  garden tools                       spade        36  19.99   \n",
      "16       Brooklyn  pest_control               insect killer        80  12.99   \n",
      "17       Brooklyn  pest_control                 weed killer        76  23.99   \n",
      "18       Brooklyn       planter  20 inch terracotta planter         5  17.99   \n",
      "19       Brooklyn       planter      8 inch plastic planter        26   3.99   \n",
      "20         Queens         seeds                       daisy        57   6.99   \n",
      "21         Queens         seeds                  calla lily        95  19.99   \n",
      "22         Queens         seeds                      tomato        45  13.99   \n",
      "23         Queens  garden tools                        rake        21  13.99   \n",
      "24         Queens  garden tools                 wheelbarrow        98  89.99   \n",
      "25         Queens  garden tools                       spade        26  19.99   \n",
      "26         Queens  pest_control               insect killer         0  12.99   \n",
      "27         Queens  pest_control                 weed killer        16  23.99   \n",
      "28         Queens       planter  20 inch terracotta planter        87  17.99   \n",
      "\n",
      "    in_stock  \n",
      "0       True  \n",
      "1       True  \n",
      "2       True  \n",
      "3       True  \n",
      "4      False  \n",
      "5       True  \n",
      "6       True  \n",
      "7       True  \n",
      "8      False  \n",
      "9       True  \n",
      "10      True  \n",
      "11     False  \n",
      "12     False  \n",
      "13      True  \n",
      "14      True  \n",
      "15      True  \n",
      "16      True  \n",
      "17      True  \n",
      "18      True  \n",
      "19      True  \n",
      "20      True  \n",
      "21      True  \n",
      "22      True  \n",
      "23      True  \n",
      "24      True  \n",
      "25      True  \n",
      "26     False  \n",
      "27      True  \n",
      "28      True  \n"
     ]
    }
   ],
   "source": [
    "inventory['in_stock'] = inventory.apply(lambda row: True \n",
    "if row.quantity > 0 else False, axis =1)\n",
    "print(inventory)"
   ]
  },
  {
   "cell_type": "code",
   "execution_count": 55,
   "metadata": {},
   "outputs": [],
   "source": [
    "# Petal Power wants to know how valuable their current inventory is.\n",
    "# Create a column called total_value that is equal to price multiplied by quantity."
   ]
  },
  {
   "cell_type": "code",
   "execution_count": 56,
   "metadata": {},
   "outputs": [
    {
     "name": "stdout",
     "output_type": "stream",
     "text": [
      "         location  product_type         product_description  quantity  price  \\\n",
      "0   Staten Island         seeds                       daisy         4   6.99   \n",
      "1   Staten Island         seeds                  calla lily        46  19.99   \n",
      "2   Staten Island         seeds                      tomato        85  13.99   \n",
      "3   Staten Island  garden tools                        rake         4  13.99   \n",
      "4   Staten Island  garden tools                 wheelbarrow         0  89.99   \n",
      "5   Staten Island  garden tools                       spade        93  19.99   \n",
      "6   Staten Island  pest_control               insect killer        74  12.99   \n",
      "7   Staten Island  pest_control                 weed killer         8  23.99   \n",
      "8   Staten Island       planter  20 inch terracotta planter         0  17.99   \n",
      "9   Staten Island       planter      8 inch plastic planter        53   3.99   \n",
      "10       Brooklyn         seeds                       daisy        50   6.99   \n",
      "11       Brooklyn         seeds                  calla lily         0  19.99   \n",
      "12       Brooklyn         seeds                      tomato         0  13.99   \n",
      "13       Brooklyn  garden tools                        rake        15  13.99   \n",
      "14       Brooklyn  garden tools                 wheelbarrow        82  89.99   \n",
      "15       Brooklyn  garden tools                       spade        36  19.99   \n",
      "16       Brooklyn  pest_control               insect killer        80  12.99   \n",
      "17       Brooklyn  pest_control                 weed killer        76  23.99   \n",
      "18       Brooklyn       planter  20 inch terracotta planter         5  17.99   \n",
      "19       Brooklyn       planter      8 inch plastic planter        26   3.99   \n",
      "20         Queens         seeds                       daisy        57   6.99   \n",
      "21         Queens         seeds                  calla lily        95  19.99   \n",
      "22         Queens         seeds                      tomato        45  13.99   \n",
      "23         Queens  garden tools                        rake        21  13.99   \n",
      "24         Queens  garden tools                 wheelbarrow        98  89.99   \n",
      "25         Queens  garden tools                       spade        26  19.99   \n",
      "26         Queens  pest_control               insect killer         0  12.99   \n",
      "27         Queens  pest_control                 weed killer        16  23.99   \n",
      "28         Queens       planter  20 inch terracotta planter        87  17.99   \n",
      "\n",
      "    in_stock  total_value  \n",
      "0       True        27.96  \n",
      "1       True       919.54  \n",
      "2       True      1189.15  \n",
      "3       True        55.96  \n",
      "4      False         0.00  \n",
      "5       True      1859.07  \n",
      "6       True       961.26  \n",
      "7       True       191.92  \n",
      "8      False         0.00  \n",
      "9       True       211.47  \n",
      "10      True       349.50  \n",
      "11     False         0.00  \n",
      "12     False         0.00  \n",
      "13      True       209.85  \n",
      "14      True      7379.18  \n",
      "15      True       719.64  \n",
      "16      True      1039.20  \n",
      "17      True      1823.24  \n",
      "18      True        89.95  \n",
      "19      True       103.74  \n",
      "20      True       398.43  \n",
      "21      True      1899.05  \n",
      "22      True       629.55  \n",
      "23      True       293.79  \n",
      "24      True      8819.02  \n",
      "25      True       519.74  \n",
      "26     False         0.00  \n",
      "27      True       383.84  \n",
      "28      True      1565.13  \n"
     ]
    }
   ],
   "source": [
    "inventory['total_value'] = inventory.apply(lambda row: row.price * row.quantity, axis =1)\n",
    "print(inventory)"
   ]
  },
  {
   "cell_type": "code",
   "execution_count": 57,
   "metadata": {},
   "outputs": [],
   "source": [
    "# Using combine_lambda, create a new column in inventory called full_description that has the complete description of each product."
   ]
  },
  {
   "cell_type": "code",
   "execution_count": 59,
   "metadata": {},
   "outputs": [
    {
     "data": {
      "text/html": [
       "<div>\n",
       "<style scoped>\n",
       "    .dataframe tbody tr th:only-of-type {\n",
       "        vertical-align: middle;\n",
       "    }\n",
       "\n",
       "    .dataframe tbody tr th {\n",
       "        vertical-align: top;\n",
       "    }\n",
       "\n",
       "    .dataframe thead th {\n",
       "        text-align: right;\n",
       "    }\n",
       "</style>\n",
       "<table border=\"1\" class=\"dataframe\">\n",
       "  <thead>\n",
       "    <tr style=\"text-align: right;\">\n",
       "      <th></th>\n",
       "      <th>location</th>\n",
       "      <th>product_type</th>\n",
       "      <th>product_description</th>\n",
       "      <th>quantity</th>\n",
       "      <th>price</th>\n",
       "      <th>in_stock</th>\n",
       "      <th>total_value</th>\n",
       "      <th>full_description</th>\n",
       "    </tr>\n",
       "  </thead>\n",
       "  <tbody>\n",
       "    <tr>\n",
       "      <th>0</th>\n",
       "      <td>Staten Island</td>\n",
       "      <td>seeds</td>\n",
       "      <td>daisy</td>\n",
       "      <td>4</td>\n",
       "      <td>6.99</td>\n",
       "      <td>True</td>\n",
       "      <td>27.96</td>\n",
       "      <td>seeds - daisy</td>\n",
       "    </tr>\n",
       "    <tr>\n",
       "      <th>1</th>\n",
       "      <td>Staten Island</td>\n",
       "      <td>seeds</td>\n",
       "      <td>calla lily</td>\n",
       "      <td>46</td>\n",
       "      <td>19.99</td>\n",
       "      <td>True</td>\n",
       "      <td>919.54</td>\n",
       "      <td>seeds - calla lily</td>\n",
       "    </tr>\n",
       "    <tr>\n",
       "      <th>2</th>\n",
       "      <td>Staten Island</td>\n",
       "      <td>seeds</td>\n",
       "      <td>tomato</td>\n",
       "      <td>85</td>\n",
       "      <td>13.99</td>\n",
       "      <td>True</td>\n",
       "      <td>1189.15</td>\n",
       "      <td>seeds - tomato</td>\n",
       "    </tr>\n",
       "    <tr>\n",
       "      <th>3</th>\n",
       "      <td>Staten Island</td>\n",
       "      <td>garden tools</td>\n",
       "      <td>rake</td>\n",
       "      <td>4</td>\n",
       "      <td>13.99</td>\n",
       "      <td>True</td>\n",
       "      <td>55.96</td>\n",
       "      <td>garden tools - rake</td>\n",
       "    </tr>\n",
       "    <tr>\n",
       "      <th>4</th>\n",
       "      <td>Staten Island</td>\n",
       "      <td>garden tools</td>\n",
       "      <td>wheelbarrow</td>\n",
       "      <td>0</td>\n",
       "      <td>89.99</td>\n",
       "      <td>False</td>\n",
       "      <td>0.00</td>\n",
       "      <td>garden tools - wheelbarrow</td>\n",
       "    </tr>\n",
       "    <tr>\n",
       "      <th>5</th>\n",
       "      <td>Staten Island</td>\n",
       "      <td>garden tools</td>\n",
       "      <td>spade</td>\n",
       "      <td>93</td>\n",
       "      <td>19.99</td>\n",
       "      <td>True</td>\n",
       "      <td>1859.07</td>\n",
       "      <td>garden tools - spade</td>\n",
       "    </tr>\n",
       "    <tr>\n",
       "      <th>6</th>\n",
       "      <td>Staten Island</td>\n",
       "      <td>pest_control</td>\n",
       "      <td>insect killer</td>\n",
       "      <td>74</td>\n",
       "      <td>12.99</td>\n",
       "      <td>True</td>\n",
       "      <td>961.26</td>\n",
       "      <td>pest_control - insect killer</td>\n",
       "    </tr>\n",
       "    <tr>\n",
       "      <th>7</th>\n",
       "      <td>Staten Island</td>\n",
       "      <td>pest_control</td>\n",
       "      <td>weed killer</td>\n",
       "      <td>8</td>\n",
       "      <td>23.99</td>\n",
       "      <td>True</td>\n",
       "      <td>191.92</td>\n",
       "      <td>pest_control - weed killer</td>\n",
       "    </tr>\n",
       "    <tr>\n",
       "      <th>8</th>\n",
       "      <td>Staten Island</td>\n",
       "      <td>planter</td>\n",
       "      <td>20 inch terracotta planter</td>\n",
       "      <td>0</td>\n",
       "      <td>17.99</td>\n",
       "      <td>False</td>\n",
       "      <td>0.00</td>\n",
       "      <td>planter - 20 inch terracotta planter</td>\n",
       "    </tr>\n",
       "    <tr>\n",
       "      <th>9</th>\n",
       "      <td>Staten Island</td>\n",
       "      <td>planter</td>\n",
       "      <td>8 inch plastic planter</td>\n",
       "      <td>53</td>\n",
       "      <td>3.99</td>\n",
       "      <td>True</td>\n",
       "      <td>211.47</td>\n",
       "      <td>planter - 8 inch plastic planter</td>\n",
       "    </tr>\n",
       "    <tr>\n",
       "      <th>10</th>\n",
       "      <td>Brooklyn</td>\n",
       "      <td>seeds</td>\n",
       "      <td>daisy</td>\n",
       "      <td>50</td>\n",
       "      <td>6.99</td>\n",
       "      <td>True</td>\n",
       "      <td>349.50</td>\n",
       "      <td>seeds - daisy</td>\n",
       "    </tr>\n",
       "    <tr>\n",
       "      <th>11</th>\n",
       "      <td>Brooklyn</td>\n",
       "      <td>seeds</td>\n",
       "      <td>calla lily</td>\n",
       "      <td>0</td>\n",
       "      <td>19.99</td>\n",
       "      <td>False</td>\n",
       "      <td>0.00</td>\n",
       "      <td>seeds - calla lily</td>\n",
       "    </tr>\n",
       "    <tr>\n",
       "      <th>12</th>\n",
       "      <td>Brooklyn</td>\n",
       "      <td>seeds</td>\n",
       "      <td>tomato</td>\n",
       "      <td>0</td>\n",
       "      <td>13.99</td>\n",
       "      <td>False</td>\n",
       "      <td>0.00</td>\n",
       "      <td>seeds - tomato</td>\n",
       "    </tr>\n",
       "    <tr>\n",
       "      <th>13</th>\n",
       "      <td>Brooklyn</td>\n",
       "      <td>garden tools</td>\n",
       "      <td>rake</td>\n",
       "      <td>15</td>\n",
       "      <td>13.99</td>\n",
       "      <td>True</td>\n",
       "      <td>209.85</td>\n",
       "      <td>garden tools - rake</td>\n",
       "    </tr>\n",
       "    <tr>\n",
       "      <th>14</th>\n",
       "      <td>Brooklyn</td>\n",
       "      <td>garden tools</td>\n",
       "      <td>wheelbarrow</td>\n",
       "      <td>82</td>\n",
       "      <td>89.99</td>\n",
       "      <td>True</td>\n",
       "      <td>7379.18</td>\n",
       "      <td>garden tools - wheelbarrow</td>\n",
       "    </tr>\n",
       "    <tr>\n",
       "      <th>15</th>\n",
       "      <td>Brooklyn</td>\n",
       "      <td>garden tools</td>\n",
       "      <td>spade</td>\n",
       "      <td>36</td>\n",
       "      <td>19.99</td>\n",
       "      <td>True</td>\n",
       "      <td>719.64</td>\n",
       "      <td>garden tools - spade</td>\n",
       "    </tr>\n",
       "    <tr>\n",
       "      <th>16</th>\n",
       "      <td>Brooklyn</td>\n",
       "      <td>pest_control</td>\n",
       "      <td>insect killer</td>\n",
       "      <td>80</td>\n",
       "      <td>12.99</td>\n",
       "      <td>True</td>\n",
       "      <td>1039.20</td>\n",
       "      <td>pest_control - insect killer</td>\n",
       "    </tr>\n",
       "    <tr>\n",
       "      <th>17</th>\n",
       "      <td>Brooklyn</td>\n",
       "      <td>pest_control</td>\n",
       "      <td>weed killer</td>\n",
       "      <td>76</td>\n",
       "      <td>23.99</td>\n",
       "      <td>True</td>\n",
       "      <td>1823.24</td>\n",
       "      <td>pest_control - weed killer</td>\n",
       "    </tr>\n",
       "    <tr>\n",
       "      <th>18</th>\n",
       "      <td>Brooklyn</td>\n",
       "      <td>planter</td>\n",
       "      <td>20 inch terracotta planter</td>\n",
       "      <td>5</td>\n",
       "      <td>17.99</td>\n",
       "      <td>True</td>\n",
       "      <td>89.95</td>\n",
       "      <td>planter - 20 inch terracotta planter</td>\n",
       "    </tr>\n",
       "    <tr>\n",
       "      <th>19</th>\n",
       "      <td>Brooklyn</td>\n",
       "      <td>planter</td>\n",
       "      <td>8 inch plastic planter</td>\n",
       "      <td>26</td>\n",
       "      <td>3.99</td>\n",
       "      <td>True</td>\n",
       "      <td>103.74</td>\n",
       "      <td>planter - 8 inch plastic planter</td>\n",
       "    </tr>\n",
       "    <tr>\n",
       "      <th>20</th>\n",
       "      <td>Queens</td>\n",
       "      <td>seeds</td>\n",
       "      <td>daisy</td>\n",
       "      <td>57</td>\n",
       "      <td>6.99</td>\n",
       "      <td>True</td>\n",
       "      <td>398.43</td>\n",
       "      <td>seeds - daisy</td>\n",
       "    </tr>\n",
       "    <tr>\n",
       "      <th>21</th>\n",
       "      <td>Queens</td>\n",
       "      <td>seeds</td>\n",
       "      <td>calla lily</td>\n",
       "      <td>95</td>\n",
       "      <td>19.99</td>\n",
       "      <td>True</td>\n",
       "      <td>1899.05</td>\n",
       "      <td>seeds - calla lily</td>\n",
       "    </tr>\n",
       "    <tr>\n",
       "      <th>22</th>\n",
       "      <td>Queens</td>\n",
       "      <td>seeds</td>\n",
       "      <td>tomato</td>\n",
       "      <td>45</td>\n",
       "      <td>13.99</td>\n",
       "      <td>True</td>\n",
       "      <td>629.55</td>\n",
       "      <td>seeds - tomato</td>\n",
       "    </tr>\n",
       "    <tr>\n",
       "      <th>23</th>\n",
       "      <td>Queens</td>\n",
       "      <td>garden tools</td>\n",
       "      <td>rake</td>\n",
       "      <td>21</td>\n",
       "      <td>13.99</td>\n",
       "      <td>True</td>\n",
       "      <td>293.79</td>\n",
       "      <td>garden tools - rake</td>\n",
       "    </tr>\n",
       "    <tr>\n",
       "      <th>24</th>\n",
       "      <td>Queens</td>\n",
       "      <td>garden tools</td>\n",
       "      <td>wheelbarrow</td>\n",
       "      <td>98</td>\n",
       "      <td>89.99</td>\n",
       "      <td>True</td>\n",
       "      <td>8819.02</td>\n",
       "      <td>garden tools - wheelbarrow</td>\n",
       "    </tr>\n",
       "    <tr>\n",
       "      <th>25</th>\n",
       "      <td>Queens</td>\n",
       "      <td>garden tools</td>\n",
       "      <td>spade</td>\n",
       "      <td>26</td>\n",
       "      <td>19.99</td>\n",
       "      <td>True</td>\n",
       "      <td>519.74</td>\n",
       "      <td>garden tools - spade</td>\n",
       "    </tr>\n",
       "    <tr>\n",
       "      <th>26</th>\n",
       "      <td>Queens</td>\n",
       "      <td>pest_control</td>\n",
       "      <td>insect killer</td>\n",
       "      <td>0</td>\n",
       "      <td>12.99</td>\n",
       "      <td>False</td>\n",
       "      <td>0.00</td>\n",
       "      <td>pest_control - insect killer</td>\n",
       "    </tr>\n",
       "    <tr>\n",
       "      <th>27</th>\n",
       "      <td>Queens</td>\n",
       "      <td>pest_control</td>\n",
       "      <td>weed killer</td>\n",
       "      <td>16</td>\n",
       "      <td>23.99</td>\n",
       "      <td>True</td>\n",
       "      <td>383.84</td>\n",
       "      <td>pest_control - weed killer</td>\n",
       "    </tr>\n",
       "    <tr>\n",
       "      <th>28</th>\n",
       "      <td>Queens</td>\n",
       "      <td>planter</td>\n",
       "      <td>20 inch terracotta planter</td>\n",
       "      <td>87</td>\n",
       "      <td>17.99</td>\n",
       "      <td>True</td>\n",
       "      <td>1565.13</td>\n",
       "      <td>planter - 20 inch terracotta planter</td>\n",
       "    </tr>\n",
       "  </tbody>\n",
       "</table>\n",
       "</div>"
      ],
      "text/plain": [
       "         location  product_type         product_description  quantity  price  \\\n",
       "0   Staten Island         seeds                       daisy         4   6.99   \n",
       "1   Staten Island         seeds                  calla lily        46  19.99   \n",
       "2   Staten Island         seeds                      tomato        85  13.99   \n",
       "3   Staten Island  garden tools                        rake         4  13.99   \n",
       "4   Staten Island  garden tools                 wheelbarrow         0  89.99   \n",
       "5   Staten Island  garden tools                       spade        93  19.99   \n",
       "6   Staten Island  pest_control               insect killer        74  12.99   \n",
       "7   Staten Island  pest_control                 weed killer         8  23.99   \n",
       "8   Staten Island       planter  20 inch terracotta planter         0  17.99   \n",
       "9   Staten Island       planter      8 inch plastic planter        53   3.99   \n",
       "10       Brooklyn         seeds                       daisy        50   6.99   \n",
       "11       Brooklyn         seeds                  calla lily         0  19.99   \n",
       "12       Brooklyn         seeds                      tomato         0  13.99   \n",
       "13       Brooklyn  garden tools                        rake        15  13.99   \n",
       "14       Brooklyn  garden tools                 wheelbarrow        82  89.99   \n",
       "15       Brooklyn  garden tools                       spade        36  19.99   \n",
       "16       Brooklyn  pest_control               insect killer        80  12.99   \n",
       "17       Brooklyn  pest_control                 weed killer        76  23.99   \n",
       "18       Brooklyn       planter  20 inch terracotta planter         5  17.99   \n",
       "19       Brooklyn       planter      8 inch plastic planter        26   3.99   \n",
       "20         Queens         seeds                       daisy        57   6.99   \n",
       "21         Queens         seeds                  calla lily        95  19.99   \n",
       "22         Queens         seeds                      tomato        45  13.99   \n",
       "23         Queens  garden tools                        rake        21  13.99   \n",
       "24         Queens  garden tools                 wheelbarrow        98  89.99   \n",
       "25         Queens  garden tools                       spade        26  19.99   \n",
       "26         Queens  pest_control               insect killer         0  12.99   \n",
       "27         Queens  pest_control                 weed killer        16  23.99   \n",
       "28         Queens       planter  20 inch terracotta planter        87  17.99   \n",
       "\n",
       "    in_stock  total_value                      full_description  \n",
       "0       True        27.96                         seeds - daisy  \n",
       "1       True       919.54                    seeds - calla lily  \n",
       "2       True      1189.15                        seeds - tomato  \n",
       "3       True        55.96                   garden tools - rake  \n",
       "4      False         0.00            garden tools - wheelbarrow  \n",
       "5       True      1859.07                  garden tools - spade  \n",
       "6       True       961.26          pest_control - insect killer  \n",
       "7       True       191.92            pest_control - weed killer  \n",
       "8      False         0.00  planter - 20 inch terracotta planter  \n",
       "9       True       211.47      planter - 8 inch plastic planter  \n",
       "10      True       349.50                         seeds - daisy  \n",
       "11     False         0.00                    seeds - calla lily  \n",
       "12     False         0.00                        seeds - tomato  \n",
       "13      True       209.85                   garden tools - rake  \n",
       "14      True      7379.18            garden tools - wheelbarrow  \n",
       "15      True       719.64                  garden tools - spade  \n",
       "16      True      1039.20          pest_control - insect killer  \n",
       "17      True      1823.24            pest_control - weed killer  \n",
       "18      True        89.95  planter - 20 inch terracotta planter  \n",
       "19      True       103.74      planter - 8 inch plastic planter  \n",
       "20      True       398.43                         seeds - daisy  \n",
       "21      True      1899.05                    seeds - calla lily  \n",
       "22      True       629.55                        seeds - tomato  \n",
       "23      True       293.79                   garden tools - rake  \n",
       "24      True      8819.02            garden tools - wheelbarrow  \n",
       "25      True       519.74                  garden tools - spade  \n",
       "26     False         0.00          pest_control - insect killer  \n",
       "27      True       383.84            pest_control - weed killer  \n",
       "28      True      1565.13  planter - 20 inch terracotta planter  "
      ]
     },
     "execution_count": 59,
     "metadata": {},
     "output_type": "execute_result"
    }
   ],
   "source": [
    "combine_lambda = lambda row: '{} - {}'.format(row.product_type, row.product_description)\n",
    "inventory['full_description'] = inventory.apply(combine_lambda, axis =1)\n",
    "\n",
    "inventory"
   ]
  }
 ],
 "metadata": {
  "kernelspec": {
   "display_name": "Python 3",
   "language": "python",
   "name": "python3"
  },
  "language_info": {
   "codemirror_mode": {
    "name": "ipython",
    "version": 3
   },
   "file_extension": ".py",
   "mimetype": "text/x-python",
   "name": "python",
   "nbconvert_exporter": "python",
   "pygments_lexer": "ipython3",
   "version": "3.7.6"
  }
 },
 "nbformat": 4,
 "nbformat_minor": 2
}
